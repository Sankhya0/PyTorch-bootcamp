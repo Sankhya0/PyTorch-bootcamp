{
 "cells": [
  {
   "cell_type": "markdown",
   "metadata": {},
   "source": [
    "### Question 2"
   ]
  },
  {
   "cell_type": "code",
   "execution_count": 1,
   "metadata": {},
   "outputs": [],
   "source": [
    "import torch\n",
    "import numpy as np"
   ]
  },
  {
   "cell_type": "code",
   "execution_count": 2,
   "metadata": {},
   "outputs": [
    {
     "data": {
      "text/plain": [
       "tensor([[4.8826e-01, 8.3791e-01, 6.2990e-01, 9.0450e-01, 3.0457e-01, 6.3186e-01,\n",
       "         6.1316e-01],\n",
       "        [6.1330e-02, 5.4964e-02, 9.0304e-01, 5.9114e-02, 3.7869e-01, 5.7951e-02,\n",
       "         3.7143e-01],\n",
       "        [1.3692e-01, 4.3116e-01, 3.0910e-01, 4.8433e-01, 1.9789e-02, 5.3037e-01,\n",
       "         6.1699e-01],\n",
       "        [3.2607e-01, 8.6667e-01, 5.0229e-01, 3.2403e-01, 9.9055e-01, 2.4681e-01,\n",
       "         7.7350e-01],\n",
       "        [7.6183e-01, 5.5816e-01, 3.0179e-01, 4.7811e-01, 3.6570e-01, 4.8194e-01,\n",
       "         5.8772e-01],\n",
       "        [9.1477e-02, 5.5172e-01, 1.8388e-01, 8.8845e-01, 7.8117e-01, 6.7144e-02,\n",
       "         5.5066e-01],\n",
       "        [7.4860e-01, 4.9485e-01, 4.4775e-04, 2.3845e-01, 8.1013e-01, 4.4980e-01,\n",
       "         5.3100e-02]])"
      ]
     },
     "execution_count": 2,
     "metadata": {},
     "output_type": "execute_result"
    }
   ],
   "source": [
    "x = torch.rand(7,7)\n",
    "x"
   ]
  },
  {
   "cell_type": "markdown",
   "metadata": {},
   "source": [
    "## Question 3"
   ]
  },
  {
   "cell_type": "code",
   "execution_count": 3,
   "metadata": {},
   "outputs": [
    {
     "data": {
      "text/plain": [
       "tensor([[2.1092],\n",
       "        [1.3267],\n",
       "        [1.2092],\n",
       "        [2.1224],\n",
       "        [1.6220],\n",
       "        [1.6473],\n",
       "        [1.2712]])"
      ]
     },
     "execution_count": 3,
     "metadata": {},
     "output_type": "execute_result"
    }
   ],
   "source": [
    "y = torch.rand(1,7)\n",
    "\n",
    "z = torch.matmul(x, y.T)\n",
    "z"
   ]
  },
  {
   "cell_type": "markdown",
   "metadata": {},
   "source": [
    "## Question 4"
   ]
  },
  {
   "cell_type": "code",
   "execution_count": 4,
   "metadata": {},
   "outputs": [
    {
     "name": "stdout",
     "output_type": "stream",
     "text": [
      "tensor([[0.4963, 0.7682, 0.0885, 0.1320, 0.3074, 0.6341, 0.4901],\n",
      "        [0.8964, 0.4556, 0.6323, 0.3489, 0.4017, 0.0223, 0.1689],\n",
      "        [0.2939, 0.5185, 0.6977, 0.8000, 0.1610, 0.2823, 0.6816],\n",
      "        [0.9152, 0.3971, 0.8742, 0.4194, 0.5529, 0.9527, 0.0362],\n",
      "        [0.1852, 0.3734, 0.3051, 0.9320, 0.1759, 0.2698, 0.1507],\n",
      "        [0.0317, 0.2081, 0.9298, 0.7231, 0.7423, 0.5263, 0.2437],\n",
      "        [0.5846, 0.0332, 0.1387, 0.2422, 0.8155, 0.7932, 0.2783]])\n",
      "tensor([[0.4963, 0.7682, 0.0885, 0.1320, 0.3074, 0.6341, 0.4901]])\n",
      "tensor([[1.5985],\n",
      "        [1.1173],\n",
      "        [1.2741],\n",
      "        [1.6838],\n",
      "        [0.8279],\n",
      "        [1.0347],\n",
      "        [1.2498]])\n"
     ]
    }
   ],
   "source": [
    "RANDOM_SEED = 0\n",
    "torch.manual_seed(RANDOM_SEED)\n",
    "x = torch.rand(7,7)\n",
    "\n",
    "torch.manual_seed(RANDOM_SEED)\n",
    "y = torch.rand(1,7)\n",
    "\n",
    "print(x)\n",
    "print(y)\n",
    "\n",
    "z = torch.matmul(x, y.T)\n",
    "print(z)"
   ]
  },
  {
   "cell_type": "markdown",
   "metadata": {},
   "source": [
    "## Question 5"
   ]
  },
  {
   "cell_type": "code",
   "execution_count": 5,
   "metadata": {},
   "outputs": [
    {
     "name": "stdout",
     "output_type": "stream",
     "text": [
      "tensor([[0.0290, 0.4019, 0.2598],\n",
      "        [0.3666, 0.0583, 0.7006]], device='cuda:0')\n",
      "tensor([[0.0290, 0.4019, 0.2598],\n",
      "        [0.3666, 0.0583, 0.7006]], device='cuda:0')\n",
      "tensor([[0.2299, 0.2161],\n",
      "        [0.2161, 0.6287]], device='cuda:0')\n"
     ]
    }
   ],
   "source": [
    "device = \"cuda\" if torch.cuda.is_available() else \"cpu\"\n",
    "\n",
    "\n",
    "RANDOM_SEED = 1234\n",
    "\n",
    "torch.manual_seed(RANDOM_SEED)\n",
    "torch.cuda.manual_seed(RANDOM_SEED)\n",
    "x = torch.rand(2,3).to(device)\n",
    "\n",
    "torch.manual_seed(RANDOM_SEED)\n",
    "torch.cuda.manual_seed(RANDOM_SEED)\n",
    "y = torch.rand(2,3).to(device)\n",
    "\n",
    "print(x)\n",
    "print(y)\n",
    "\n",
    "z = torch.matmul(x, y.T)\n",
    "print(z)"
   ]
  },
  {
   "cell_type": "markdown",
   "metadata": {},
   "source": [
    "## Question 6"
   ]
  },
  {
   "cell_type": "code",
   "execution_count": 6,
   "metadata": {},
   "outputs": [
    {
     "data": {
      "text/plain": [
       "(0.628727912902832, 0.21611443161964417)"
      ]
     },
     "execution_count": 6,
     "metadata": {},
     "output_type": "execute_result"
    }
   ],
   "source": [
    "z.max().item(), z.min().item()"
   ]
  },
  {
   "cell_type": "markdown",
   "metadata": {},
   "source": [
    "## Question 7"
   ]
  },
  {
   "cell_type": "code",
   "execution_count": 7,
   "metadata": {},
   "outputs": [
    {
     "data": {
      "text/plain": [
       "(3, 1)"
      ]
     },
     "execution_count": 7,
     "metadata": {},
     "output_type": "execute_result"
    }
   ],
   "source": [
    "z.argmax().item(), z.argmin().item()"
   ]
  },
  {
   "cell_type": "markdown",
   "metadata": {},
   "source": [
    "## Combined 5,6,7"
   ]
  },
  {
   "cell_type": "code",
   "execution_count": 8,
   "metadata": {},
   "outputs": [
    {
     "name": "stdout",
     "output_type": "stream",
     "text": [
      "Result of matrix multiplication:\n",
      " tensor([[0.2299, 0.2161],\n",
      "        [0.2161, 0.6287]], device='cuda:0')\n",
      "Maximum value: 0.628727912902832\n",
      "Minimum value: 0.21611443161964417\n",
      "Index of maximum value: 3\n",
      "Index of minimum value: 1\n"
     ]
    }
   ],
   "source": [
    "import torch\n",
    "\n",
    "# Set random seeds for reproducibility\n",
    "torch.manual_seed(1234)          # CPU random seed\n",
    "torch.cuda.manual_seed(1234)      # GPU random seed\n",
    "\n",
    "# Create two random tensors of shape (2, 3)\n",
    "tensor_a = torch.rand(2, 3).cuda()  # Send to GPU\n",
    "\n",
    "torch.manual_seed(1234)          # CPU random seed\n",
    "torch.cuda.manual_seed(1234)      # GPU random seed\n",
    "tensor_b = torch.rand(2, 3).cuda()  # Adjust shape for matrix multiplication\n",
    "\n",
    "# Perform matrix multiplication\n",
    "result = torch.matmul(tensor_a, tensor_b.T)\n",
    "\n",
    "# Find the maximum and minimum values\n",
    "max_value = result.max().item()\n",
    "min_value = result.min().item()\n",
    "\n",
    "# Find the indices of the maximum and minimum values\n",
    "max_index = result.argmax().item()\n",
    "min_index = result.argmin().item()\n",
    "\n",
    "# Display the results\n",
    "print(\"Result of matrix multiplication:\\n\", result)\n",
    "print(\"Maximum value:\", max_value)\n",
    "print(\"Minimum value:\", min_value)\n",
    "print(\"Index of maximum value:\", max_index)\n",
    "print(\"Index of minimum value:\", min_index)"
   ]
  },
  {
   "cell_type": "code",
   "execution_count": null,
   "metadata": {},
   "outputs": [],
   "source": []
  }
 ],
 "metadata": {
  "kernelspec": {
   "display_name": "pytorch_gpu",
   "language": "python",
   "name": "python3"
  },
  "language_info": {
   "codemirror_mode": {
    "name": "ipython",
    "version": 3
   },
   "file_extension": ".py",
   "mimetype": "text/x-python",
   "name": "python",
   "nbconvert_exporter": "python",
   "pygments_lexer": "ipython3",
   "version": "3.10.14"
  }
 },
 "nbformat": 4,
 "nbformat_minor": 2
}
