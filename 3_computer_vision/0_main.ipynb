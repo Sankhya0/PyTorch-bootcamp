{
 "cells": [
  {
   "cell_type": "markdown",
   "metadata": {},
   "source": [
    "## PyTorch Computer Vision\n",
    "\n",
    "* `torchvision`\n",
    "* `torchvision.datasets` - get datasets and dataloading functions here\n",
    "* `torchvision.models` - get pretrained models that you can leverage  for your own problems\n",
    "* `torchvision.transforms` - functions for manipulating  your vision data to be suitable for the pyTorch frameworks\n",
    "* `torch.utils.data.Dataset` - Base dataset class in pytorch\n",
    "* `torch.utils.data.Dataloader` - Creates an iterable over a dataset "
   ]
  },
  {
   "cell_type": "code",
   "execution_count": null,
   "metadata": {},
   "outputs": [],
   "source": [
    "import torch\n",
    "import torch.nn as nn\n",
    "import torchvision\n",
    "from torchvision import datasets, transforms\n",
    "from torchvision.transforms import ToTensor\n",
    "import numpy as np\n",
    "import matplotlib.pyplot as plt\n",
    "from tqdm.auto import tqdm"
   ]
  },
  {
   "cell_type": "code",
   "execution_count": null,
   "metadata": {},
   "outputs": [],
   "source": [
    "device = torch.device(\"cuda\" if torch.cuda.is_available() else \"cpu\")"
   ]
  },
  {
   "cell_type": "markdown",
   "metadata": {},
   "source": [
    "## Dataset and Dataloader"
   ]
  },
  {
   "cell_type": "code",
   "execution_count": null,
   "metadata": {},
   "outputs": [],
   "source": [
    "train_data = torchvision.datasets.FashionMNIST(\n",
    "    root=\"data\",\n",
    "    train=True,\n",
    "    download=True,\n",
    "    transform=ToTensor(),\n",
    "    target_transform=None\n",
    ")\n",
    "\n",
    "test_data = torchvision.datasets.FashionMNIST(\n",
    "    root=\"data\",\n",
    "    train=False,\n",
    "    download=True,\n",
    "    transform=ToTensor(),\n",
    "    target_transform=None\n",
    ")"
   ]
  },
  {
   "cell_type": "code",
   "execution_count": null,
   "metadata": {},
   "outputs": [],
   "source": [
    "classes = train_data.classes\n",
    "class_to_idx = train_data.class_to_idx\n",
    "classes, class_to_idx"
   ]
  },
  {
   "cell_type": "code",
   "execution_count": null,
   "metadata": {},
   "outputs": [],
   "source": [
    "from torch.utils.data import DataLoader\n",
    "trainDataloader = DataLoader(train_data, batch_size = 32, shuffle = True) # it is important to shuffle the data for training\n",
    "testDataLoader = DataLoader(test_data, batch_size = 32) # no need to shuffle the data for testing"
   ]
  },
  {
   "cell_type": "code",
   "execution_count": null,
   "metadata": {},
   "outputs": [],
   "source": [
    "train_features_batch, train_labels_batch = next(iter(trainDataloader))\n",
    "train_features_batch.shape, train_labels_batch.shape"
   ]
  },
  {
   "cell_type": "markdown",
   "metadata": {},
   "source": [
    "## Exploring the Data"
   ]
  },
  {
   "cell_type": "code",
   "execution_count": null,
   "metadata": {},
   "outputs": [],
   "source": [
    "random_idx = np.random.randint(0, 32)\n",
    "img = train_features_batch[random_idx].squeeze()\n",
    "label = train_labels_batch[random_idx]\n",
    "plt.imshow(img, cmap='gray')\n",
    "plt.show()\n",
    "print(classes[label])"
   ]
  },
  {
   "cell_type": "markdown",
   "metadata": {},
   "source": [
    "#### Baseline Model - Flatten"
   ]
  },
  {
   "cell_type": "code",
   "execution_count": null,
   "metadata": {},
   "outputs": [],
   "source": [
    "flatten_model = nn.Flatten()\n",
    "x = train_features_batch[0]\n",
    "x.shape"
   ]
  },
  {
   "cell_type": "code",
   "execution_count": null,
   "metadata": {},
   "outputs": [],
   "source": [
    "output = flatten_model(x).squeeze()\n",
    "output.shape"
   ]
  },
  {
   "cell_type": "code",
   "execution_count": null,
   "metadata": {},
   "outputs": [],
   "source": [
    "class FashnionMNISTV0(nn.Module):\n",
    "    def __init__(self, input_shape:int, hidden_units: int, output_shape: int):\n",
    "        super().__init__()\n",
    "        self.layer_stack = nn.Sequential(\n",
    "            nn.Flatten(),\n",
    "            nn.Linear(input_shape, hidden_units),\n",
    "            nn.ReLU(),\n",
    "            nn.Linear(hidden_units, output_shape)\n",
    "        )\n",
    "    \n",
    "    def forward(self, x):\n",
    "        return self.layer_stack(x)"
   ]
  },
  {
   "cell_type": "markdown",
   "metadata": {},
   "source": [
    "#### Dummy Run"
   ]
  },
  {
   "cell_type": "code",
   "execution_count": null,
   "metadata": {},
   "outputs": [],
   "source": [
    "model_0 = FashnionMNISTV0(28*28, 128, 10).to(\"cpu\")"
   ]
  },
  {
   "cell_type": "code",
   "execution_count": null,
   "metadata": {},
   "outputs": [],
   "source": [
    "dummy_x = model_0(train_features_batch)"
   ]
  },
  {
   "cell_type": "code",
   "execution_count": null,
   "metadata": {},
   "outputs": [],
   "source": [
    "dummy_x.shape"
   ]
  },
  {
   "cell_type": "code",
   "execution_count": null,
   "metadata": {},
   "outputs": [],
   "source": [
    "dummy_x[0]"
   ]
  },
  {
   "cell_type": "code",
   "execution_count": null,
   "metadata": {},
   "outputs": [],
   "source": [
    "loss_fn = nn.CrossEntropyLoss()\n",
    "optimizer = torch.optim.Adam(model_0.parameters(), lr=1e-3)"
   ]
  },
  {
   "cell_type": "markdown",
   "metadata": {},
   "source": [
    "#### Establish Accuracy function"
   ]
  },
  {
   "cell_type": "code",
   "execution_count": null,
   "metadata": {},
   "outputs": [],
   "source": [
    "def accuracy_fn(y_true, y_pred):\n",
    "    correct = torch.eq(y_true, y_pred).sum().item()\n",
    "    acc = (correct / len(y_pred)) * 100\n",
    "    return acc"
   ]
  },
  {
   "cell_type": "markdown",
   "metadata": {},
   "source": [
    "#### Create a function to time our experiments"
   ]
  },
  {
   "cell_type": "code",
   "execution_count": null,
   "metadata": {},
   "outputs": [],
   "source": [
    "from timeit import default_timer as timer\n",
    "\n",
    "def print_train_time(start: float, end: float, device: torch.device = None):\n",
    "    total_time = end - start\n",
    "    print(f\"Train time on {device}: {total_time:.2f} seconds\")"
   ]
  },
  {
   "cell_type": "markdown",
   "metadata": {},
   "source": [
    "### Training and Testing Loop\n",
    "\n",
    "* Loop through the epochs\n",
    "* Loop through the batches in each epoch\n",
    "* Perform training, loss per batch\n",
    "* Perform the testing for each batch"
   ]
  },
  {
   "cell_type": "code",
   "execution_count": null,
   "metadata": {},
   "outputs": [],
   "source": [
    "# \n",
    "\n",
    "# torch.manual_seed(42)\n",
    "\n",
    "# EPOCHS = 3\n",
    "\n",
    "# start_time = timer()\n",
    "\n",
    "# for epoch in tqdm(range(EPOCHS)):\n",
    "#     print(f\"Epoch {epoch+1}\\n-------------------------------\")\n",
    "\n",
    "#     ### Training\n",
    "\n",
    "#     training_loss = 0\n",
    "#     training_accuracy = 0\n",
    "\n",
    "#     for batch, (X, y) in enumerate(trainDataloader, start = 1):\n",
    "#         model_0.train()\n",
    "\n",
    "#         y_pred = model_0(X)\n",
    "#         loss = loss_fn(y_pred, y)\n",
    "#         training_loss += loss.item()\n",
    "\n",
    "#         training_accuracy += accuracy_fn(y, y_pred.argmax(1))\n",
    "\n",
    "#         optimizer.zero_grad()\n",
    "#         loss.backward()\n",
    "#         optimizer.step()\n",
    "\n",
    "#         if batch % 400 == 0:\n",
    "#             acc = accuracy_fn(y, y_pred.argmax(1))\n",
    "#             print(f\"Batch {batch} Loss {loss.item()} Accuracy {acc}\")\n",
    "\n",
    "#     training_loss /= len(trainDataloader)\n",
    "#     training_accuracy /= len(trainDataloader)\n",
    "\n",
    "#     ### Testing\n",
    "\n",
    "#     testing_loss = 0\n",
    "#     testing_accuracy = 0\n",
    "\n",
    "#     for X, y in testDataLoader:\n",
    "#         model_0.eval()\n",
    "\n",
    "#         with torch.inference_mode():\n",
    "#             y_pred = model_0(X)\n",
    "#             loss = loss_fn(y_pred, y)\n",
    "#             testing_loss += loss.item()\n",
    "\n",
    "#             testing_accuracy += accuracy_fn(y, y_pred.argmax(1))\n",
    "\n",
    "#     testing_loss /= len(testDataLoader)\n",
    "#     testing_accuracy /= len(testDataLoader)\n",
    "\n",
    "#     print(f\"Epoch {epoch+1} Training Loss: {training_loss:.4f} | Training Accuracy: {training_accuracy:.2f} |  Testing Loss: {testing_loss:.4f} | Testing Accuracy: {testing_accuracy:.2f}%\")\n",
    "\n",
    "\n",
    "\n",
    "# end_time = timer()\n",
    "# print(\"----------------------------------\")\n",
    "# print_train_time(start_time, end_time, next(model_0.parameters()).device)"
   ]
  },
  {
   "cell_type": "code",
   "execution_count": null,
   "metadata": {},
   "outputs": [],
   "source": [
    "def training_loop(epochs=5,\n",
    "                  model=model_0,\n",
    "                  loss_fn=loss_fn,\n",
    "                  accuracy_fn=accuracy_fn,\n",
    "                  optimizer=optimizer,\n",
    "                  trainDataLoader=trainDataloader,\n",
    "                  device=device):\n",
    "\n",
    "    train_loss = []\n",
    "    train_accuracy = []\n",
    "\n",
    "    model.to(device)  # Ensure the model is on the correct device\n",
    "\n",
    "    for epoch in range(epochs):\n",
    "        print(f\"Epoch {epoch+1}\\n-------------------------------\")\n",
    "\n",
    "        model.train()  # Set the model to training mode\n",
    "        training_loss = 0\n",
    "        training_accuracy = 0\n",
    "\n",
    "        for batch, (X, y) in enumerate(trainDataLoader, start=1):\n",
    "            # Move data and target to device\n",
    "            X, y = X.to(device), y.to(device)\n",
    "            \n",
    "            # Zero the gradients\n",
    "            optimizer.zero_grad()\n",
    "\n",
    "            # Forward pass\n",
    "            y_pred = model(X)\n",
    "            \n",
    "            # Compute loss\n",
    "            loss = loss_fn(y_pred, y)\n",
    "            training_loss += loss.item()\n",
    "            \n",
    "            # Compute accuracy\n",
    "            training_accuracy += accuracy_fn(y, y_pred.argmax(dim=1))\n",
    "            \n",
    "            # Backward pass\n",
    "            loss.backward()\n",
    "            optimizer.step()\n",
    "\n",
    "            if batch % 400 == 0:\n",
    "                print(f\"Done with {batch} batches\")\n",
    "\n",
    "        # Calculate average loss and accuracy for the epoch\n",
    "        training_loss /= len(trainDataLoader)\n",
    "        training_accuracy /= len(trainDataLoader)\n",
    "\n",
    "        # Store loss and accuracy\n",
    "        train_loss.append(training_loss)\n",
    "        train_accuracy.append(training_accuracy)\n",
    "\n",
    "        print(f\"Epoch {epoch+1} Training Loss: {training_loss:.4f} | Training Accuracy: {training_accuracy:.2f}\")\n",
    "    \n",
    "    return train_loss, train_accuracy\n"
   ]
  },
  {
   "cell_type": "code",
   "execution_count": null,
   "metadata": {},
   "outputs": [],
   "source": [
    "# training_loop()"
   ]
  },
  {
   "cell_type": "code",
   "execution_count": null,
   "metadata": {},
   "outputs": [],
   "source": [
    "def testing_loop(model = model_0,\n",
    "                 testDataLoader = testDataLoader,\n",
    "                 loss_fn = loss_fn,\n",
    "                 accuracy_fn = accuracy_fn\n",
    "                 ):\n",
    "    \n",
    "    model.to(device)\n",
    "    model.eval()\n",
    "\n",
    "    with torch.inference_mode():\n",
    "        testing_loss = 0\n",
    "        testing_accuracy = 0\n",
    "\n",
    "        for X, y in testDataLoader:\n",
    "\n",
    "            X, y = X.to(device), y.to(device)\n",
    "\n",
    "            y_pred = model(X)\n",
    "            loss = loss_fn(y_pred, y)\n",
    "            testing_loss += loss.item()\n",
    "\n",
    "            testing_accuracy += accuracy_fn(y, y_pred.argmax(1))\n",
    "\n",
    "        testing_loss /= len(testDataLoader)\n",
    "        testing_accuracy /= len(testDataLoader)\n",
    "\n",
    "        print(f\"Testing Loss: {testing_loss:.4f} | Testing Accuracy: {testing_accuracy:.2f}%\")"
   ]
  },
  {
   "cell_type": "code",
   "execution_count": null,
   "metadata": {},
   "outputs": [],
   "source": [
    "# testing_loop()"
   ]
  },
  {
   "cell_type": "markdown",
   "metadata": {},
   "source": [
    "## Creating a CNN"
   ]
  },
  {
   "cell_type": "code",
   "execution_count": null,
   "metadata": {},
   "outputs": [],
   "source": [
    "class FashionMNISTV1(nn.Module):\n",
    "    def __init__(self, input_shape:int, hidden_units: int, output_shape: int):\n",
    "        super().__init__()\n",
    "        self.conv_block1 = nn.Sequential(\n",
    "            nn.Conv2d(in_channels = 1, out_channels=32, kernel_size=3, stride=1, padding=1),\n",
    "            nn.ReLU(),\n",
    "            nn.Conv2d(in_channels = 32, out_channels=64, kernel_size=3, stride=1, padding=1),\n",
    "            nn.ReLU(),\n",
    "            nn.MaxPool2d(kernel_size=2, stride=2)\n",
    "        )\n",
    "        self.conv_block2 = nn.Sequential(\n",
    "            nn.Conv2d(in_channels = 64, out_channels=128, kernel_size=3, stride=1, padding=1),\n",
    "            nn.ReLU(),\n",
    "            nn.Conv2d(in_channels = 128, out_channels=256, kernel_size=3, stride=1, padding=1),\n",
    "            nn.ReLU(),\n",
    "            nn.MaxPool2d(kernel_size=2, stride=2)\n",
    "        )\n",
    "        self.classifier = nn.Sequential(\n",
    "            nn.Flatten(),\n",
    "            nn.Linear(7*7*256, hidden_units),\n",
    "            nn.ReLU(),\n",
    "            nn.Linear(hidden_units, output_shape),\n",
    "            nn.Softmax(dim=1)\n",
    "        )\n",
    "    \n",
    "    def forward(self, x):\n",
    "        X = self.conv_block1(x)\n",
    "        X = self.conv_block2(X)\n",
    "        return self.classifier(X)"
   ]
  },
  {
   "cell_type": "code",
   "execution_count": null,
   "metadata": {},
   "outputs": [],
   "source": [
    "model_1 = FashionMNISTV1(28*28, 128, 10).to(device)"
   ]
  },
  {
   "cell_type": "code",
   "execution_count": null,
   "metadata": {},
   "outputs": [],
   "source": [
    "training_loop(model=model_1)"
   ]
  },
  {
   "cell_type": "code",
   "execution_count": null,
   "metadata": {},
   "outputs": [],
   "source": []
  }
 ],
 "metadata": {
  "kernelspec": {
   "display_name": "pytorch_gpu",
   "language": "python",
   "name": "python3"
  },
  "language_info": {
   "codemirror_mode": {
    "name": "ipython",
    "version": 3
   },
   "file_extension": ".py",
   "mimetype": "text/x-python",
   "name": "python",
   "nbconvert_exporter": "python",
   "pygments_lexer": "ipython3",
   "version": "3.10.14"
  }
 },
 "nbformat": 4,
 "nbformat_minor": 2
}
