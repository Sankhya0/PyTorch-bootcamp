{
 "cells": [
  {
   "cell_type": "code",
   "execution_count": 1,
   "metadata": {},
   "outputs": [
    {
     "name": "stderr",
     "output_type": "stream",
     "text": [
      "c:\\Users\\dixit\\anaconda3\\envs\\pytorch_gpu\\lib\\site-packages\\tqdm\\auto.py:21: TqdmWarning: IProgress not found. Please update jupyter and ipywidgets. See https://ipywidgets.readthedocs.io/en/stable/user_install.html\n",
      "  from .autonotebook import tqdm as notebook_tqdm\n"
     ]
    }
   ],
   "source": [
    "import torch\n",
    "import torch.nn as nn\n",
    "import torchvision\n",
    "from torchvision import datasets, transforms\n",
    "from torchvision.transforms import ToTensor\n",
    "import numpy as np\n",
    "import matplotlib.pyplot as plt\n",
    "from tqdm.auto import tqdm"
   ]
  },
  {
   "cell_type": "code",
   "execution_count": 2,
   "metadata": {},
   "outputs": [],
   "source": [
    "device = torch.device(\"cuda\" if torch.cuda.is_available() else \"cpu\")"
   ]
  },
  {
   "cell_type": "code",
   "execution_count": 3,
   "metadata": {},
   "outputs": [],
   "source": [
    "train_data = torchvision.datasets.FashionMNIST(\n",
    "    root=\"data\",\n",
    "    train=True,\n",
    "    download=True,\n",
    "    transform=ToTensor(),\n",
    "    target_transform=None\n",
    ")\n",
    "\n",
    "test_data = torchvision.datasets.FashionMNIST(\n",
    "    root=\"data\",\n",
    "    train=False,\n",
    "    download=True,\n",
    "    transform=ToTensor(),\n",
    "    target_transform=None\n",
    ")"
   ]
  },
  {
   "cell_type": "code",
   "execution_count": 4,
   "metadata": {},
   "outputs": [
    {
     "data": {
      "text/plain": [
       "(['T-shirt/top',\n",
       "  'Trouser',\n",
       "  'Pullover',\n",
       "  'Dress',\n",
       "  'Coat',\n",
       "  'Sandal',\n",
       "  'Shirt',\n",
       "  'Sneaker',\n",
       "  'Bag',\n",
       "  'Ankle boot'],\n",
       " {'T-shirt/top': 0,\n",
       "  'Trouser': 1,\n",
       "  'Pullover': 2,\n",
       "  'Dress': 3,\n",
       "  'Coat': 4,\n",
       "  'Sandal': 5,\n",
       "  'Shirt': 6,\n",
       "  'Sneaker': 7,\n",
       "  'Bag': 8,\n",
       "  'Ankle boot': 9})"
      ]
     },
     "execution_count": 4,
     "metadata": {},
     "output_type": "execute_result"
    }
   ],
   "source": [
    "classes = train_data.classes\n",
    "class_to_idx = train_data.class_to_idx\n",
    "classes, class_to_idx"
   ]
  },
  {
   "cell_type": "code",
   "execution_count": 5,
   "metadata": {},
   "outputs": [],
   "source": [
    "from torch.utils.data import DataLoader\n",
    "trainDataloader = DataLoader(train_data, batch_size = 32, shuffle = True) # it is important to shuffle the data for training\n",
    "testDataLoader = DataLoader(test_data, batch_size = 32) # no need to shuffle the data for testing"
   ]
  },
  {
   "cell_type": "code",
   "execution_count": 6,
   "metadata": {},
   "outputs": [
    {
     "data": {
      "text/plain": [
       "(torch.Size([32, 1, 28, 28]), torch.Size([32]))"
      ]
     },
     "execution_count": 6,
     "metadata": {},
     "output_type": "execute_result"
    }
   ],
   "source": [
    "train_features_batch, train_labels_batch = next(iter(trainDataloader))\n",
    "train_features_batch.shape, train_labels_batch.shape"
   ]
  },
  {
   "cell_type": "code",
   "execution_count": 7,
   "metadata": {},
   "outputs": [
    {
     "data": {
      "image/png": "[encoded data removed]",
      "text/plain": [
       "<Figure size 640x480 with 1 Axes>"
      ]
     },
     "metadata": {},
     "output_type": "display_data"
    },
    {
     "name": "stdout",
     "output_type": "stream",
     "text": [
      "Coat\n"
     ]
    }
   ],
   "source": [
    "random_idx = np.random.randint(0, 32)\n",
    "img = train_features_batch[random_idx].squeeze()\n",
    "label = train_labels_batch[random_idx]\n",
    "plt.imshow(img, cmap='gray')\n",
    "plt.show()\n",
    "print(classes[label])"
   ]
  },
  {
   "cell_type": "code",
   "execution_count": 8,
   "metadata": {},
   "outputs": [],
   "source": [
    "def accuracy_fn(y_true, y_pred):\n",
    "    correct = torch.eq(y_true, y_pred).sum().item()\n",
    "    acc = (correct / len(y_pred)) * 100\n",
    "    return acc"
   ]
  },
  {
   "cell_type": "code",
   "execution_count": 9,
   "metadata": {},
   "outputs": [],
   "source": [
    "from timeit import default_timer as timer\n",
    "\n",
    "def print_train_time(start: float, end: float, device: torch.device = None):\n",
    "    total_time = end - start\n",
    "    print(f\"Train time on {device}: {total_time:.2f} seconds\")"
   ]
  },
  {
   "cell_type": "code",
   "execution_count": 10,
   "metadata": {},
   "outputs": [],
   "source": [
    "def training_loop(model,\n",
    "                  loss_fn,\n",
    "                  optimizer,\n",
    "                  epochs,\n",
    "                  accuracy_fn,\n",
    "                  trainDataLoader,\n",
    "                  device):\n",
    "\n",
    "    train_loss = []\n",
    "    train_accuracy = []\n",
    "\n",
    "    model.to(device)  # Ensure the model is on the correct device\n",
    "\n",
    "    for epoch in range(epochs):\n",
    "        print(f\"Epoch {epoch+1}\\n-------------------------------\")\n",
    "\n",
    "        model.train()  # Set the model to training mode\n",
    "        training_loss = 0\n",
    "        training_accuracy = 0\n",
    "\n",
    "        for batch, (X, y) in enumerate(trainDataLoader, start=1):\n",
    "            # Move data and target to device\n",
    "            X, y = X.to(device), y.to(device)\n",
    "            \n",
    "            # Zero the gradients\n",
    "            optimizer.zero_grad()\n",
    "\n",
    "            # Forward pass\n",
    "            y_pred = model(X)\n",
    "            \n",
    "            # Compute loss\n",
    "            loss = loss_fn(y_pred, y)\n",
    "            training_loss += loss.item()\n",
    "            \n",
    "            # Compute accuracy\n",
    "            training_accuracy += accuracy_fn(y, y_pred.argmax(dim=1))\n",
    "            \n",
    "            # Backward pass\n",
    "            loss.backward()\n",
    "            optimizer.step()\n",
    "\n",
    "            if batch % 400 == 0:\n",
    "                print(f\"Done with {batch} batches\")\n",
    "\n",
    "        # Calculate average loss and accuracy for the epoch\n",
    "        training_loss /= len(trainDataLoader)\n",
    "        training_accuracy /= len(trainDataLoader)\n",
    "\n",
    "        # Store loss and accuracy\n",
    "        train_loss.append(training_loss)\n",
    "        train_accuracy.append(training_accuracy)\n",
    "\n",
    "        print(f\"Epoch {epoch+1} Training Loss: {training_loss:.4f} | Training Accuracy: {training_accuracy:.2f}\")\n",
    "    \n",
    "    return train_loss, train_accuracy\n"
   ]
  },
  {
   "cell_type": "code",
   "execution_count": 11,
   "metadata": {},
   "outputs": [],
   "source": [
    "def testing_loop(model,\n",
    "                 testDataLoader,\n",
    "                 loss_fn,\n",
    "                 accuracy_fn,\n",
    "                 device\n",
    "                 ):\n",
    "    \n",
    "    model.to(device)\n",
    "    model.eval()\n",
    "\n",
    "    with torch.inference_mode():\n",
    "        testing_loss = 0\n",
    "        testing_accuracy = 0\n",
    "\n",
    "        for X, y in testDataLoader:\n",
    "\n",
    "            X, y = X.to(device), y.to(device)\n",
    "\n",
    "            y_pred = model(X)\n",
    "            loss = loss_fn(y_pred, y)\n",
    "            testing_loss += loss.item()\n",
    "\n",
    "            testing_accuracy += accuracy_fn(y, y_pred.argmax(1))\n",
    "\n",
    "        testing_loss /= len(testDataLoader)\n",
    "        testing_accuracy /= len(testDataLoader)\n",
    "\n",
    "        print(f\"Testing Loss: {testing_loss:.4f} | Testing Accuracy: {testing_accuracy:.2f}%\")"
   ]
  },
  {
   "cell_type": "code",
   "execution_count": 35,
   "metadata": {},
   "outputs": [],
   "source": [
    "class FashionMNISTV1(nn.Module):\n",
    "    def __init__(self, input_shape:int, hidden_units: int, output_shape: int):\n",
    "        super().__init__()\n",
    "        self.conv_block1 = nn.Sequential(\n",
    "            nn.Conv2d(in_channels = 1, out_channels=10, kernel_size=3, stride=1, padding=1),\n",
    "            nn.ReLU(),\n",
    "            nn.Conv2d(in_channels = 10, out_channels=10, kernel_size=3, stride=1, padding=1),\n",
    "            nn.ReLU(),\n",
    "            nn.MaxPool2d(kernel_size=2, stride=2)\n",
    "        )\n",
    "        self.conv_block2 = nn.Sequential(\n",
    "            nn.Conv2d(in_channels = 10, out_channels=10, kernel_size=3, stride=1, padding=1),\n",
    "            nn.ReLU(),\n",
    "            nn.Conv2d(in_channels = 10, out_channels=10, kernel_size=3, stride=1, padding=1),\n",
    "            nn.ReLU(),\n",
    "            nn.MaxPool2d(kernel_size=2, stride=2)\n",
    "        )\n",
    "        self.classifier = nn.Sequential(\n",
    "            nn.Flatten(),\n",
    "            nn.Linear(490, hidden_units),\n",
    "            nn.ReLU(),\n",
    "            nn.Linear(hidden_units, output_shape),\n",
    "            nn.Softmax(dim=1)\n",
    "        )\n",
    "    \n",
    "    def forward(self, x):\n",
    "        X = self.conv_block1(x)\n",
    "        X = self.conv_block2(X)\n",
    "        return self.classifier(X)"
   ]
  },
  {
   "cell_type": "code",
   "execution_count": 36,
   "metadata": {},
   "outputs": [],
   "source": [
    "model_1 = FashionMNISTV1(28*28, 128, 10)\n",
    "loss_fn = nn.CrossEntropyLoss()\n",
    "optimizer = torch.optim.Adam(model_1.parameters(), lr=0.001)"
   ]
  },
  {
   "cell_type": "code",
   "execution_count": 37,
   "metadata": {},
   "outputs": [
    {
     "name": "stdout",
     "output_type": "stream",
     "text": [
      "Epoch 1\n",
      "-------------------------------\n",
      "Done with 400 batches\n",
      "Done with 800 batches\n",
      "Done with 1200 batches\n",
      "Done with 1600 batches\n",
      "Epoch 1 Training Loss: 1.7515 | Training Accuracy: 71.03\n",
      "Epoch 2\n",
      "-------------------------------\n",
      "Done with 400 batches\n",
      "Done with 800 batches\n",
      "Done with 1200 batches\n",
      "Done with 1600 batches\n",
      "Epoch 2 Training Loss: 1.6834 | Training Accuracy: 77.78\n",
      "Epoch 3\n",
      "-------------------------------\n",
      "Done with 400 batches\n",
      "Done with 800 batches\n",
      "Done with 1200 batches\n",
      "Done with 1600 batches\n",
      "Epoch 3 Training Loss: 1.6422 | Training Accuracy: 81.84\n",
      "Epoch 4\n",
      "-------------------------------\n",
      "Done with 400 batches\n",
      "Done with 800 batches\n",
      "Done with 1200 batches\n",
      "Done with 1600 batches\n",
      "Epoch 4 Training Loss: 1.6008 | Training Accuracy: 85.98\n",
      "Epoch 5\n",
      "-------------------------------\n",
      "Done with 400 batches\n",
      "Done with 800 batches\n",
      "Done with 1200 batches\n",
      "Done with 1600 batches\n",
      "Epoch 5 Training Loss: 1.5909 | Training Accuracy: 87.02\n"
     ]
    },
    {
     "data": {
      "text/plain": [
       "([1.7514673261642455,\n",
       "  1.68337298634847,\n",
       "  1.6421634976704915,\n",
       "  1.6007686793645224,\n",
       "  1.5908552532831828],\n",
       " [71.03333333333333,\n",
       "  77.78166666666667,\n",
       "  81.84,\n",
       "  85.97666666666667,\n",
       "  87.01666666666667])"
      ]
     },
     "execution_count": 37,
     "metadata": {},
     "output_type": "execute_result"
    }
   ],
   "source": [
    "training_loop(model_1, loss_fn, optimizer, 5, accuracy_fn, trainDataloader, device)"
   ]
  },
  {
   "cell_type": "code",
   "execution_count": 38,
   "metadata": {},
   "outputs": [
    {
     "name": "stdout",
     "output_type": "stream",
     "text": [
      "Testing Loss: 1.5965 | Testing Accuracy: 86.41%\n"
     ]
    }
   ],
   "source": [
    "testing_loop(model_1, testDataLoader, loss_fn, accuracy_fn, device)"
   ]
  },
  {
   "cell_type": "markdown",
   "metadata": {},
   "source": [
    "## Making a Confusion Matrix"
   ]
  },
  {
   "cell_type": "code",
   "execution_count": 109,
   "metadata": {},
   "outputs": [],
   "source": [
    "import torchmetrics\n",
    "import mlxtend"
   ]
  },
  {
   "cell_type": "code",
   "execution_count": 110,
   "metadata": {},
   "outputs": [],
   "source": [
    "from torchmetrics import ConfusionMatrix\n",
    "confmat = ConfusionMatrix(num_classes=10, task = \"multiclass\")"
   ]
  },
  {
   "cell_type": "code",
   "execution_count": 111,
   "metadata": {},
   "outputs": [],
   "source": [
    "y_preds = []\n",
    "model_1.eval()\n",
    "with torch.inference_mode():\n",
    "    for X, _ in testDataLoader:\n",
    "        X = X.to(device)\n",
    "        y_pred = model_1(X)\n",
    "        y_preds.append(y_pred.argmax(1))"
   ]
  },
  {
   "cell_type": "code",
   "execution_count": 112,
   "metadata": {},
   "outputs": [],
   "source": [
    "y_preds = torch.cat(y_preds).cpu()"
   ]
  },
  {
   "cell_type": "code",
   "execution_count": 113,
   "metadata": {},
   "outputs": [],
   "source": [
    "y_true = []\n",
    "for _, y in testDataLoader:\n",
    "    y_true.append(y)\n",
    "\n",
    "y_true = torch.cat(y_true)"
   ]
  },
  {
   "cell_type": "code",
   "execution_count": 116,
   "metadata": {},
   "outputs": [
    {
     "data": {
      "image/png": "[encoded data removed]",
      "text/plain": [
       "<Figure size 1000x1000 with 1 Axes>"
      ]
     },
     "metadata": {},
     "output_type": "display_data"
    }
   ],
   "source": [
    "from mlxtend.plotting import plot_confusion_matrix\n",
    "import numpy as np\n",
    "\n",
    "conf_matrix = confmat(y_preds, y_true)\n",
    "fig, ax = plot_confusion_matrix(conf_matrix.numpy(), figsize=(10, 10))\n",
    "ax.set_xticks(np.arange(len(classes)))\n",
    "ax.set_yticks(np.arange(len(classes)))\n",
    "ax.set_xticklabels(classes, rotation=45, ha=\"right\")\n",
    "ax.set_yticklabels(classes)\n",
    "plt.show()"
   ]
  },
  {
   "cell_type": "code",
   "execution_count": null,
   "metadata": {},
   "outputs": [],
   "source": []
  }
 ],
 "metadata": {
  "kernelspec": {
   "display_name": "pytorch_gpu",
   "language": "python",
   "name": "python3"
  },
  "language_info": {
   "codemirror_mode": {
    "name": "ipython",
    "version": 3
   },
   "file_extension": ".py",
   "mimetype": "text/x-python",
   "name": "python",
   "nbconvert_exporter": "python",
   "pygments_lexer": "ipython3",
   "version": "3.10.14"
  }
 },
 "nbformat": 4,
 "nbformat_minor": 2
}
