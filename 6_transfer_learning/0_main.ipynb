{
  "cells": [
    {
      "cell_type": "code",
      "execution_count": 1,
      "metadata": {
        "colab": {
          "base_uri": "https://localhost:8080/"
        },
        "id": "BUUdgxdV8ggL",
        "outputId": "c53596b0-1ba9-4044-b3e1-ecc9cab04f0f"
      },
      "outputs": [
        {
          "output_type": "stream",
          "name": "stdout",
          "text": [
            "Requirement already satisfied: torchinfo in /usr/local/lib/python3.10/dist-packages (1.8.0)\n"
          ]
        }
      ],
      "source": [
        "import torch\n",
        "import torchvision\n",
        "import torch.nn as nn\n",
        "from torch.utils.data import DataLoader, Dataset\n",
        "from torchvision import transforms, datasets\n",
        "\n",
        "\n",
        "!pip install torchinfo\n",
        "import torchinfo\n",
        "\n",
        "import matplotlib.pyplot as plt\n",
        "import numpy as np\n",
        "\n",
        "import requests\n",
        "import zipfile\n",
        "from pathlib import Path\n",
        "import os\n",
        "\n",
        "from PIL import Image\n",
        "\n",
        "import random\n",
        "\n",
        "from typing import List, Tuple, Dict\n",
        "from tqdm.auto import tqdm"
      ]
    },
    {
      "cell_type": "code",
      "execution_count": 2,
      "metadata": {
        "id": "p-IfX71X8ggM"
      },
      "outputs": [],
      "source": [
        "device = torch.device('cuda' if torch.cuda.is_available() else 'cpu')"
      ]
    },
    {
      "cell_type": "code",
      "execution_count": 3,
      "metadata": {
        "id": "wR2Gk4YK8ggM"
      },
      "outputs": [],
      "source": [
        "from going_modular import data_setup, engine"
      ]
    },
    {
      "cell_type": "code",
      "execution_count": 4,
      "metadata": {
        "colab": {
          "base_uri": "https://localhost:8080/"
        },
        "id": "8WHn1I-G8ggM",
        "outputId": "0d7cdfc6-8eb8-41e9-b9c3-92ced1af9b15"
      },
      "outputs": [
        {
          "output_type": "execute_result",
          "data": {
            "text/plain": [
              "(PosixPath('/content/data/train'), PosixPath('/content/data/test'))"
            ]
          },
          "metadata": {},
          "execution_count": 4
        }
      ],
      "source": [
        "home_path = Path.cwd()\n",
        "data_path = home_path / 'data'\n",
        "\n",
        "if not data_path.exists():\n",
        "    data_path.mkdir(exist_ok=True, parents=True)\n",
        "    with open(data_path / \"pizza_steak_sushi.zip\", \"wb\") as f:\n",
        "        response = requests.get(\"https://github.com/mrdbourke/pytorch-deep-learning/blob/main/data/pizza_steak_sushi.zip?raw=true\")\n",
        "        f.write(response.content)\n",
        "\n",
        "    with zipfile.ZipFile(data_path / \"pizza_steak_sushi.zip\", \"r\") as zip_ref:\n",
        "        zip_ref.extractall(data_path)\n",
        "\n",
        "train_dir = data_path / \"train\"\n",
        "test_dir = data_path / \"test\"\n",
        "\n",
        "train_dir, test_dir"
      ]
    },
    {
      "cell_type": "markdown",
      "metadata": {
        "id": "VWOwb7-m8ggM"
      },
      "source": [
        "## Data tranforms for transfer learning\n",
        "\n",
        "It is vital to transform the images from the custom dataset to have the same tranforms as the images on which the model you are tranferring from previously used.\n",
        "\n",
        "We can either do this automatically\n",
        "\n",
        "Or we can create the transforms manually -> Normalize and resize the image for this"
      ]
    },
    {
      "cell_type": "code",
      "execution_count": 5,
      "metadata": {
        "id": "irbrDHAU8ggN"
      },
      "outputs": [],
      "source": [
        "from going_modular import data_setup\n",
        "\n",
        "normalize = transforms.Normalize(mean=[0.485, 0.456, 0.406],\n",
        "                                 std=[0.229, 0.224, 0.225])\n",
        "\n",
        "manual_transform = transforms.Compose([\n",
        "    transforms.Resize((224, 224)),\n",
        "    transforms.ToTensor(),\n",
        "    normalize\n",
        "])\n"
      ]
    },
    {
      "cell_type": "code",
      "execution_count": 6,
      "metadata": {
        "colab": {
          "base_uri": "https://localhost:8080/"
        },
        "id": "JFmatrKz8ggN",
        "outputId": "91d60dec-d000-453f-e7df-3eb563c2addb"
      },
      "outputs": [
        {
          "output_type": "execute_result",
          "data": {
            "text/plain": [
              "(<torch.utils.data.dataloader.DataLoader at 0x7ad92e37d300>,\n",
              " <torch.utils.data.dataloader.DataLoader at 0x7ad92df43f10>,\n",
              " ['pizza', 'steak', 'sushi'])"
            ]
          },
          "metadata": {},
          "execution_count": 6
        }
      ],
      "source": [
        "train_dataloader, test_dataloader, class_names = data_setup.create_dataloaders(train_dir, test_dir, transform=manual_transform, batch_size=32)\n",
        "\n",
        "train_dataloader, test_dataloader, class_names"
      ]
    },
    {
      "cell_type": "markdown",
      "metadata": {
        "id": "1QwcwS6r8ggN"
      },
      "source": [
        "#### Automatic data transform creation using pretrained model weights"
      ]
    },
    {
      "cell_type": "code",
      "execution_count": 7,
      "metadata": {
        "colab": {
          "base_uri": "https://localhost:8080/"
        },
        "id": "mjaxFnTY8ggO",
        "outputId": "fb596b62-248d-427b-b796-4499da8e795b"
      },
      "outputs": [
        {
          "output_type": "execute_result",
          "data": {
            "text/plain": [
              "EfficientNet_B0_Weights.IMAGENET1K_V1"
            ]
          },
          "metadata": {},
          "execution_count": 7
        }
      ],
      "source": [
        "# get a set of pretrained model weights\n",
        "\n",
        "weights = torchvision.models.EfficientNet_B0_Weights.DEFAULT\n",
        "weights"
      ]
    },
    {
      "cell_type": "code",
      "execution_count": 8,
      "metadata": {
        "colab": {
          "base_uri": "https://localhost:8080/"
        },
        "id": "BUjkOaIy8ggO",
        "outputId": "7a31798f-4fa7-43c9-a993-9ada2f43b246"
      },
      "outputs": [
        {
          "output_type": "execute_result",
          "data": {
            "text/plain": [
              "ImageClassification(\n",
              "    crop_size=[224]\n",
              "    resize_size=[256]\n",
              "    mean=[0.485, 0.456, 0.406]\n",
              "    std=[0.229, 0.224, 0.225]\n",
              "    interpolation=InterpolationMode.BICUBIC\n",
              ")"
            ]
          },
          "metadata": {},
          "execution_count": 8
        }
      ],
      "source": [
        "# Get the tranforms\n",
        "\n",
        "auto_tranforms = weights.transforms()\n",
        "auto_tranforms"
      ]
    },
    {
      "cell_type": "code",
      "execution_count": 9,
      "metadata": {
        "colab": {
          "base_uri": "https://localhost:8080/"
        },
        "id": "NzL4HO3m8ggO",
        "outputId": "fc09cc25-4f53-467d-af26-c39fac6d6849"
      },
      "outputs": [
        {
          "output_type": "execute_result",
          "data": {
            "text/plain": [
              "(<torch.utils.data.dataloader.DataLoader at 0x7ad92df43df0>,\n",
              " <torch.utils.data.dataloader.DataLoader at 0x7ad92e37d2d0>,\n",
              " ['pizza', 'steak', 'sushi'])"
            ]
          },
          "metadata": {},
          "execution_count": 9
        }
      ],
      "source": [
        "train_dataloader, test_dataloader, class_names = data_setup.create_dataloaders(train_dir, test_dir, transform=auto_tranforms, batch_size=32)\n",
        "train_dataloader, test_dataloader, class_names"
      ]
    },
    {
      "cell_type": "markdown",
      "metadata": {
        "id": "lHjTYoIg8ggO"
      },
      "source": [
        "### Getting a pretrained model\n",
        "\n",
        "1. Pytorch libraries\n",
        "2. Libraries like timm(torch image models)\n",
        "3. HuggingFace hub\n",
        "4. PapersWithCode"
      ]
    },
    {
      "cell_type": "code",
      "execution_count": 10,
      "metadata": {
        "id": "aBAMBuvS8ggO"
      },
      "outputs": [],
      "source": [
        "weights = torchvision.models.EfficientNet_B0_Weights.DEFAULT\n",
        "model = torchvision.models.efficientnet_b0(weights=weights).to(device)"
      ]
    },
    {
      "cell_type": "code",
      "execution_count": 11,
      "metadata": {
        "colab": {
          "base_uri": "https://localhost:8080/"
        },
        "id": "zPAO6F2Y8ggP",
        "outputId": "a0fbf9ba-0fa5-4e69-b1e7-dedf12fbe2fe"
      },
      "outputs": [
        {
          "output_type": "execute_result",
          "data": {
            "text/plain": [
              "================================================================================================================================================================\n",
              "Layer (type (var_name))                                      Input Shape               Output Shape              Param #                   Trainable\n",
              "================================================================================================================================================================\n",
              "EfficientNet (EfficientNet)                                  [1, 3, 224, 224]          [1, 1000]                 --                        True\n",
              "├─Sequential (features)                                      [1, 3, 224, 224]          [1, 1280, 7, 7]           --                        True\n",
              "│    └─Conv2dNormActivation (0)                              [1, 3, 224, 224]          [1, 32, 112, 112]         --                        True\n",
              "│    │    └─Conv2d (0)                                       [1, 3, 224, 224]          [1, 32, 112, 112]         864                       True\n",
              "│    │    └─BatchNorm2d (1)                                  [1, 32, 112, 112]         [1, 32, 112, 112]         64                        True\n",
              "│    │    └─SiLU (2)                                         [1, 32, 112, 112]         [1, 32, 112, 112]         --                        --\n",
              "│    └─Sequential (1)                                        [1, 32, 112, 112]         [1, 16, 112, 112]         --                        True\n",
              "│    │    └─MBConv (0)                                       [1, 32, 112, 112]         [1, 16, 112, 112]         1,448                     True\n",
              "│    └─Sequential (2)                                        [1, 16, 112, 112]         [1, 24, 56, 56]           --                        True\n",
              "│    │    └─MBConv (0)                                       [1, 16, 112, 112]         [1, 24, 56, 56]           6,004                     True\n",
              "│    │    └─MBConv (1)                                       [1, 24, 56, 56]           [1, 24, 56, 56]           10,710                    True\n",
              "│    └─Sequential (3)                                        [1, 24, 56, 56]           [1, 40, 28, 28]           --                        True\n",
              "│    │    └─MBConv (0)                                       [1, 24, 56, 56]           [1, 40, 28, 28]           15,350                    True\n",
              "│    │    └─MBConv (1)                                       [1, 40, 28, 28]           [1, 40, 28, 28]           31,290                    True\n",
              "│    └─Sequential (4)                                        [1, 40, 28, 28]           [1, 80, 14, 14]           --                        True\n",
              "│    │    └─MBConv (0)                                       [1, 40, 28, 28]           [1, 80, 14, 14]           37,130                    True\n",
              "│    │    └─MBConv (1)                                       [1, 80, 14, 14]           [1, 80, 14, 14]           102,900                   True\n",
              "│    │    └─MBConv (2)                                       [1, 80, 14, 14]           [1, 80, 14, 14]           102,900                   True\n",
              "│    └─Sequential (5)                                        [1, 80, 14, 14]           [1, 112, 14, 14]          --                        True\n",
              "│    │    └─MBConv (0)                                       [1, 80, 14, 14]           [1, 112, 14, 14]          126,004                   True\n",
              "│    │    └─MBConv (1)                                       [1, 112, 14, 14]          [1, 112, 14, 14]          208,572                   True\n",
              "│    │    └─MBConv (2)                                       [1, 112, 14, 14]          [1, 112, 14, 14]          208,572                   True\n",
              "│    └─Sequential (6)                                        [1, 112, 14, 14]          [1, 192, 7, 7]            --                        True\n",
              "│    │    └─MBConv (0)                                       [1, 112, 14, 14]          [1, 192, 7, 7]            262,492                   True\n",
              "│    │    └─MBConv (1)                                       [1, 192, 7, 7]            [1, 192, 7, 7]            587,952                   True\n",
              "│    │    └─MBConv (2)                                       [1, 192, 7, 7]            [1, 192, 7, 7]            587,952                   True\n",
              "│    │    └─MBConv (3)                                       [1, 192, 7, 7]            [1, 192, 7, 7]            587,952                   True\n",
              "│    └─Sequential (7)                                        [1, 192, 7, 7]            [1, 320, 7, 7]            --                        True\n",
              "│    │    └─MBConv (0)                                       [1, 192, 7, 7]            [1, 320, 7, 7]            717,232                   True\n",
              "│    └─Conv2dNormActivation (8)                              [1, 320, 7, 7]            [1, 1280, 7, 7]           --                        True\n",
              "│    │    └─Conv2d (0)                                       [1, 320, 7, 7]            [1, 1280, 7, 7]           409,600                   True\n",
              "│    │    └─BatchNorm2d (1)                                  [1, 1280, 7, 7]           [1, 1280, 7, 7]           2,560                     True\n",
              "│    │    └─SiLU (2)                                         [1, 1280, 7, 7]           [1, 1280, 7, 7]           --                        --\n",
              "├─AdaptiveAvgPool2d (avgpool)                                [1, 1280, 7, 7]           [1, 1280, 1, 1]           --                        --\n",
              "├─Sequential (classifier)                                    [1, 1280]                 [1, 1000]                 --                        True\n",
              "│    └─Dropout (0)                                           [1, 1280]                 [1, 1280]                 --                        --\n",
              "│    └─Linear (1)                                            [1, 1280]                 [1, 1000]                 1,281,000                 True\n",
              "================================================================================================================================================================\n",
              "Total params: 5,288,548\n",
              "Trainable params: 5,288,548\n",
              "Non-trainable params: 0\n",
              "Total mult-adds (M): 385.87\n",
              "================================================================================================================================================================\n",
              "Input size (MB): 0.60\n",
              "Forward/backward pass size (MB): 107.89\n",
              "Params size (MB): 21.15\n",
              "Estimated Total Size (MB): 129.64\n",
              "================================================================================================================================================================"
            ]
          },
          "metadata": {},
          "execution_count": 11
        }
      ],
      "source": [
        "torchinfo.summary(model, input_size=(1, 3, 224, 224),\n",
        "                  col_names=[\"input_size\", \"output_size\", \"num_params\", \"trainable\"],\n",
        "                  row_settings=[\"var_names\"])"
      ]
    },
    {
      "cell_type": "markdown",
      "metadata": {
        "id": "umUyNTni8ggP"
      },
      "source": [
        "## Feature-Extraction\n",
        "\n",
        "We want to:\n",
        "1. Freeze the earlier layers\n",
        "2. Change the output to a size of 3 from 1000"
      ]
    },
    {
      "cell_type": "code",
      "execution_count": 12,
      "metadata": {
        "id": "A7epFX9Y8ggP"
      },
      "outputs": [],
      "source": [
        "for param in model.features.parameters():\n",
        "    param.requires_grad = False"
      ]
    },
    {
      "cell_type": "code",
      "execution_count": 13,
      "metadata": {
        "colab": {
          "base_uri": "https://localhost:8080/"
        },
        "id": "22R86ePm8ggP",
        "outputId": "2460da59-b36e-4c77-b530-614609666560"
      },
      "outputs": [
        {
          "output_type": "execute_result",
          "data": {
            "text/plain": [
              "Sequential(\n",
              "  (0): Dropout(p=0.2, inplace=True)\n",
              "  (1): Linear(in_features=1280, out_features=3, bias=True)\n",
              ")"
            ]
          },
          "metadata": {},
          "execution_count": 13
        }
      ],
      "source": [
        "model.classifier = nn.Sequential(\n",
        "    nn.Dropout(0.2, inplace=True),\n",
        "    nn.Linear(1280, len(class_names))\n",
        ")\n",
        "\n",
        "model.classifier"
      ]
    },
    {
      "cell_type": "code",
      "execution_count": 14,
      "metadata": {
        "colab": {
          "base_uri": "https://localhost:8080/"
        },
        "id": "LnHlRKXx8ggP",
        "outputId": "9804bfaa-73ae-4624-cfbb-2eaf8056bf67"
      },
      "outputs": [
        {
          "output_type": "execute_result",
          "data": {
            "text/plain": [
              "================================================================================================================================================================\n",
              "Layer (type (var_name))                                      Input Shape               Output Shape              Param #                   Trainable\n",
              "================================================================================================================================================================\n",
              "EfficientNet (EfficientNet)                                  [1, 3, 224, 224]          [1, 3]                    --                        Partial\n",
              "├─Sequential (features)                                      [1, 3, 224, 224]          [1, 1280, 7, 7]           --                        False\n",
              "│    └─Conv2dNormActivation (0)                              [1, 3, 224, 224]          [1, 32, 112, 112]         --                        False\n",
              "│    │    └─Conv2d (0)                                       [1, 3, 224, 224]          [1, 32, 112, 112]         (864)                     False\n",
              "│    │    └─BatchNorm2d (1)                                  [1, 32, 112, 112]         [1, 32, 112, 112]         (64)                      False\n",
              "│    │    └─SiLU (2)                                         [1, 32, 112, 112]         [1, 32, 112, 112]         --                        --\n",
              "│    └─Sequential (1)                                        [1, 32, 112, 112]         [1, 16, 112, 112]         --                        False\n",
              "│    │    └─MBConv (0)                                       [1, 32, 112, 112]         [1, 16, 112, 112]         (1,448)                   False\n",
              "│    └─Sequential (2)                                        [1, 16, 112, 112]         [1, 24, 56, 56]           --                        False\n",
              "│    │    └─MBConv (0)                                       [1, 16, 112, 112]         [1, 24, 56, 56]           (6,004)                   False\n",
              "│    │    └─MBConv (1)                                       [1, 24, 56, 56]           [1, 24, 56, 56]           (10,710)                  False\n",
              "│    └─Sequential (3)                                        [1, 24, 56, 56]           [1, 40, 28, 28]           --                        False\n",
              "│    │    └─MBConv (0)                                       [1, 24, 56, 56]           [1, 40, 28, 28]           (15,350)                  False\n",
              "│    │    └─MBConv (1)                                       [1, 40, 28, 28]           [1, 40, 28, 28]           (31,290)                  False\n",
              "│    └─Sequential (4)                                        [1, 40, 28, 28]           [1, 80, 14, 14]           --                        False\n",
              "│    │    └─MBConv (0)                                       [1, 40, 28, 28]           [1, 80, 14, 14]           (37,130)                  False\n",
              "│    │    └─MBConv (1)                                       [1, 80, 14, 14]           [1, 80, 14, 14]           (102,900)                 False\n",
              "│    │    └─MBConv (2)                                       [1, 80, 14, 14]           [1, 80, 14, 14]           (102,900)                 False\n",
              "│    └─Sequential (5)                                        [1, 80, 14, 14]           [1, 112, 14, 14]          --                        False\n",
              "│    │    └─MBConv (0)                                       [1, 80, 14, 14]           [1, 112, 14, 14]          (126,004)                 False\n",
              "│    │    └─MBConv (1)                                       [1, 112, 14, 14]          [1, 112, 14, 14]          (208,572)                 False\n",
              "│    │    └─MBConv (2)                                       [1, 112, 14, 14]          [1, 112, 14, 14]          (208,572)                 False\n",
              "│    └─Sequential (6)                                        [1, 112, 14, 14]          [1, 192, 7, 7]            --                        False\n",
              "│    │    └─MBConv (0)                                       [1, 112, 14, 14]          [1, 192, 7, 7]            (262,492)                 False\n",
              "│    │    └─MBConv (1)                                       [1, 192, 7, 7]            [1, 192, 7, 7]            (587,952)                 False\n",
              "│    │    └─MBConv (2)                                       [1, 192, 7, 7]            [1, 192, 7, 7]            (587,952)                 False\n",
              "│    │    └─MBConv (3)                                       [1, 192, 7, 7]            [1, 192, 7, 7]            (587,952)                 False\n",
              "│    └─Sequential (7)                                        [1, 192, 7, 7]            [1, 320, 7, 7]            --                        False\n",
              "│    │    └─MBConv (0)                                       [1, 192, 7, 7]            [1, 320, 7, 7]            (717,232)                 False\n",
              "│    └─Conv2dNormActivation (8)                              [1, 320, 7, 7]            [1, 1280, 7, 7]           --                        False\n",
              "│    │    └─Conv2d (0)                                       [1, 320, 7, 7]            [1, 1280, 7, 7]           (409,600)                 False\n",
              "│    │    └─BatchNorm2d (1)                                  [1, 1280, 7, 7]           [1, 1280, 7, 7]           (2,560)                   False\n",
              "│    │    └─SiLU (2)                                         [1, 1280, 7, 7]           [1, 1280, 7, 7]           --                        --\n",
              "├─AdaptiveAvgPool2d (avgpool)                                [1, 1280, 7, 7]           [1, 1280, 1, 1]           --                        --\n",
              "├─Sequential (classifier)                                    [1, 1280]                 [1, 3]                    --                        True\n",
              "│    └─Dropout (0)                                           [1, 1280]                 [1, 1280]                 --                        --\n",
              "│    └─Linear (1)                                            [1, 1280]                 [1, 3]                    3,843                     True\n",
              "================================================================================================================================================================\n",
              "Total params: 4,011,391\n",
              "Trainable params: 3,843\n",
              "Non-trainable params: 4,007,548\n",
              "Total mult-adds (M): 384.59\n",
              "================================================================================================================================================================\n",
              "Input size (MB): 0.60\n",
              "Forward/backward pass size (MB): 107.88\n",
              "Params size (MB): 16.05\n",
              "Estimated Total Size (MB): 124.53\n",
              "================================================================================================================================================================"
            ]
          },
          "metadata": {},
          "execution_count": 14
        }
      ],
      "source": [
        "torchinfo.summary(model, input_size=(1, 3, 224, 224),\n",
        "                  col_names=[\"input_size\", \"output_size\", \"num_params\", \"trainable\"],\n",
        "                  row_settings=[\"var_names\"])"
      ]
    },
    {
      "cell_type": "code",
      "execution_count": 15,
      "metadata": {
        "id": "S0Yvq6yy8ggP"
      },
      "outputs": [],
      "source": [
        "loss_fn = nn.CrossEntropyLoss()\n",
        "optimizer = torch.optim.Adam(model.parameters(), lr=0.001)"
      ]
    },
    {
      "cell_type": "code",
      "execution_count": 16,
      "metadata": {
        "colab": {
          "base_uri": "https://localhost:8080/",
          "height": 1000,
          "referenced_widgets": [
            "4cb099dceb364ca180a25998f123e7fb",
            "c6ed8125ea544a74b965abab3edeef7e",
            "90d9b88d23244abe896cbe330a141cdf",
            "f03f9e8bd3dc47eea01fe1284ab10022",
            "14449c4abbc64c7b910e6d9fc658d5c5",
            "7075cab58b7a420ea7ba2e2cbcde5966",
            "2a7e3278c7224a7d987813682be5362a",
            "eaa20a78d416493abab9a1c595835af3",
            "7686a6dee4104718aac32057fcd51fd1",
            "f3f057f671404fcebdbe838eaa48aa93",
            "9df263db3f244a5b93a1e60599178d2e"
          ]
        },
        "id": "FSXEZG998ggP",
        "outputId": "c93eab45-2433-414b-b668-647d0b9a2eed"
      },
      "outputs": [
        {
          "output_type": "display_data",
          "data": {
            "text/plain": [
              "  0%|          | 0/100 [00:00<?, ?it/s]"
            ],
            "application/vnd.jupyter.widget-view+json": {
              "version_major": 2,
              "version_minor": 0,
              "model_id": "4cb099dceb364ca180a25998f123e7fb"
            }
          },
          "metadata": {}
        },
        {
          "output_type": "stream",
          "name": "stdout",
          "text": [
            "Epoch: 1 | train_loss: 1.0908 | train_acc: 0.3984 | test_loss: 0.8302 | test_acc: 0.8551\n",
            "Epoch: 2 | train_loss: 0.8552 | train_acc: 0.8086 | test_loss: 0.7715 | test_acc: 0.8153\n",
            "Epoch: 3 | train_loss: 0.7731 | train_acc: 0.7461 | test_loss: 0.7059 | test_acc: 0.8362\n",
            "Epoch: 4 | train_loss: 0.6794 | train_acc: 0.7695 | test_loss: 0.5760 | test_acc: 0.8551\n",
            "Epoch: 5 | train_loss: 0.5996 | train_acc: 0.7695 | test_loss: 0.5635 | test_acc: 0.8561\n",
            "Epoch: 6 | train_loss: 0.5541 | train_acc: 0.7852 | test_loss: 0.5032 | test_acc: 0.8352\n",
            "Epoch: 7 | train_loss: 0.5323 | train_acc: 0.7852 | test_loss: 0.5170 | test_acc: 0.8561\n",
            "Epoch: 8 | train_loss: 0.4607 | train_acc: 0.9453 | test_loss: 0.4604 | test_acc: 0.8456\n",
            "Epoch: 9 | train_loss: 0.4631 | train_acc: 0.8086 | test_loss: 0.4858 | test_acc: 0.8769\n",
            "Epoch: 10 | train_loss: 0.4989 | train_acc: 0.8242 | test_loss: 0.4424 | test_acc: 0.8759\n",
            "Epoch: 11 | train_loss: 0.3993 | train_acc: 0.9531 | test_loss: 0.4402 | test_acc: 0.8456\n",
            "Epoch: 12 | train_loss: 0.4023 | train_acc: 0.9336 | test_loss: 0.4695 | test_acc: 0.8248\n",
            "Epoch: 13 | train_loss: 0.3658 | train_acc: 0.9180 | test_loss: 0.4671 | test_acc: 0.8456\n",
            "Epoch: 14 | train_loss: 0.4436 | train_acc: 0.8320 | test_loss: 0.4177 | test_acc: 0.8561\n",
            "Epoch: 15 | train_loss: 0.3963 | train_acc: 0.9453 | test_loss: 0.3714 | test_acc: 0.8864\n",
            "Epoch: 16 | train_loss: 0.3836 | train_acc: 0.8125 | test_loss: 0.3686 | test_acc: 0.8968\n",
            "Epoch: 17 | train_loss: 0.3980 | train_acc: 0.8555 | test_loss: 0.3544 | test_acc: 0.8968\n",
            "Epoch: 18 | train_loss: 0.3644 | train_acc: 0.8516 | test_loss: 0.4005 | test_acc: 0.8561\n",
            "Epoch: 19 | train_loss: 0.3431 | train_acc: 0.8594 | test_loss: 0.3625 | test_acc: 0.8561\n",
            "Epoch: 20 | train_loss: 0.3237 | train_acc: 0.8477 | test_loss: 0.3717 | test_acc: 0.8665\n",
            "Epoch: 21 | train_loss: 0.4078 | train_acc: 0.8242 | test_loss: 0.3526 | test_acc: 0.8665\n",
            "Epoch: 22 | train_loss: 0.3048 | train_acc: 0.9805 | test_loss: 0.3655 | test_acc: 0.8873\n",
            "Epoch: 23 | train_loss: 0.2656 | train_acc: 0.9648 | test_loss: 0.3863 | test_acc: 0.8561\n",
            "Epoch: 24 | train_loss: 0.2746 | train_acc: 0.9727 | test_loss: 0.4063 | test_acc: 0.8352\n",
            "Epoch: 25 | train_loss: 0.2873 | train_acc: 0.9648 | test_loss: 0.4243 | test_acc: 0.8248\n",
            "Epoch: 26 | train_loss: 0.4212 | train_acc: 0.8555 | test_loss: 0.4363 | test_acc: 0.8153\n",
            "Epoch: 27 | train_loss: 0.2980 | train_acc: 0.9688 | test_loss: 0.3912 | test_acc: 0.8665\n",
            "Epoch: 28 | train_loss: 0.2477 | train_acc: 0.9766 | test_loss: 0.3784 | test_acc: 0.8873\n",
            "Epoch: 29 | train_loss: 0.3777 | train_acc: 0.8477 | test_loss: 0.4209 | test_acc: 0.8665\n",
            "Epoch: 30 | train_loss: 0.2500 | train_acc: 0.9609 | test_loss: 0.3582 | test_acc: 0.8561\n",
            "Epoch: 31 | train_loss: 0.2719 | train_acc: 0.8555 | test_loss: 0.3641 | test_acc: 0.8561\n",
            "Epoch: 32 | train_loss: 0.2334 | train_acc: 0.9766 | test_loss: 0.3722 | test_acc: 0.8352\n",
            "Epoch: 33 | train_loss: 0.2076 | train_acc: 0.9766 | test_loss: 0.3725 | test_acc: 0.8456\n",
            "Epoch: 34 | train_loss: 0.2190 | train_acc: 0.9805 | test_loss: 0.3617 | test_acc: 0.8561\n",
            "Epoch: 35 | train_loss: 0.4146 | train_acc: 0.8477 | test_loss: 0.3342 | test_acc: 0.8769\n",
            "Epoch: 36 | train_loss: 0.2497 | train_acc: 0.9844 | test_loss: 0.3121 | test_acc: 0.8665\n",
            "Epoch: 37 | train_loss: 0.2482 | train_acc: 0.8594 | test_loss: 0.3303 | test_acc: 0.8665\n",
            "Epoch: 38 | train_loss: 0.3072 | train_acc: 0.8555 | test_loss: 0.3071 | test_acc: 0.8456\n",
            "Epoch: 39 | train_loss: 0.2957 | train_acc: 0.8438 | test_loss: 0.3357 | test_acc: 0.8759\n",
            "Epoch: 40 | train_loss: 0.2476 | train_acc: 0.9648 | test_loss: 0.3818 | test_acc: 0.8456\n",
            "Epoch: 41 | train_loss: 0.3087 | train_acc: 0.8594 | test_loss: 0.3745 | test_acc: 0.8352\n",
            "Epoch: 42 | train_loss: 0.2302 | train_acc: 0.9688 | test_loss: 0.3653 | test_acc: 0.8968\n",
            "Epoch: 43 | train_loss: 0.2962 | train_acc: 0.8594 | test_loss: 0.3679 | test_acc: 0.8864\n",
            "Epoch: 44 | train_loss: 0.2237 | train_acc: 0.9844 | test_loss: 0.3252 | test_acc: 0.8551\n",
            "Epoch: 45 | train_loss: 0.3234 | train_acc: 0.8672 | test_loss: 0.3411 | test_acc: 0.8655\n",
            "Epoch: 46 | train_loss: 0.1933 | train_acc: 1.0000 | test_loss: 0.3181 | test_acc: 0.8561\n",
            "Epoch: 47 | train_loss: 0.2705 | train_acc: 0.8633 | test_loss: 0.3054 | test_acc: 0.8561\n",
            "Epoch: 48 | train_loss: 0.2506 | train_acc: 0.8477 | test_loss: 0.3147 | test_acc: 0.8968\n",
            "Epoch: 49 | train_loss: 0.2048 | train_acc: 0.9766 | test_loss: 0.3466 | test_acc: 0.9176\n",
            "Epoch: 50 | train_loss: 0.2017 | train_acc: 0.9727 | test_loss: 0.3856 | test_acc: 0.8561\n",
            "Epoch: 51 | train_loss: 0.3292 | train_acc: 0.8359 | test_loss: 0.4142 | test_acc: 0.8665\n",
            "Epoch: 52 | train_loss: 0.3784 | train_acc: 0.8516 | test_loss: 0.3628 | test_acc: 0.8561\n",
            "Epoch: 53 | train_loss: 0.2000 | train_acc: 1.0000 | test_loss: 0.3405 | test_acc: 0.8665\n",
            "Epoch: 54 | train_loss: 0.3444 | train_acc: 0.8594 | test_loss: 0.3362 | test_acc: 0.8561\n",
            "Epoch: 55 | train_loss: 0.2377 | train_acc: 0.8672 | test_loss: 0.3322 | test_acc: 0.8665\n",
            "Epoch: 56 | train_loss: 0.2414 | train_acc: 0.8594 | test_loss: 0.3617 | test_acc: 0.8665\n",
            "Epoch: 57 | train_loss: 0.2794 | train_acc: 0.8594 | test_loss: 0.3759 | test_acc: 0.8561\n",
            "Epoch: 58 | train_loss: 0.2136 | train_acc: 0.8633 | test_loss: 0.3364 | test_acc: 0.8561\n",
            "Epoch: 59 | train_loss: 0.2675 | train_acc: 0.8711 | test_loss: 0.3543 | test_acc: 0.8769\n",
            "Epoch: 60 | train_loss: 0.2178 | train_acc: 0.8633 | test_loss: 0.2891 | test_acc: 0.8665\n",
            "Epoch: 61 | train_loss: 0.2908 | train_acc: 0.8477 | test_loss: 0.3035 | test_acc: 0.8665\n",
            "Epoch: 62 | train_loss: 0.2895 | train_acc: 0.8672 | test_loss: 0.2982 | test_acc: 0.9072\n",
            "Epoch: 63 | train_loss: 0.2255 | train_acc: 0.8555 | test_loss: 0.3388 | test_acc: 0.8665\n",
            "Epoch: 64 | train_loss: 0.3167 | train_acc: 0.8633 | test_loss: 0.4185 | test_acc: 0.8352\n",
            "Epoch: 65 | train_loss: 0.2020 | train_acc: 0.9805 | test_loss: 0.3269 | test_acc: 0.8977\n",
            "Epoch: 66 | train_loss: 0.2947 | train_acc: 0.8633 | test_loss: 0.3366 | test_acc: 0.8561\n",
            "Epoch: 67 | train_loss: 0.2159 | train_acc: 0.8672 | test_loss: 0.3311 | test_acc: 0.8561\n",
            "Epoch: 68 | train_loss: 0.2554 | train_acc: 0.8672 | test_loss: 0.3100 | test_acc: 0.8665\n",
            "Epoch: 69 | train_loss: 0.2686 | train_acc: 0.8672 | test_loss: 0.3248 | test_acc: 0.8769\n",
            "Epoch: 70 | train_loss: 0.2399 | train_acc: 0.8633 | test_loss: 0.3005 | test_acc: 0.8561\n",
            "Epoch: 71 | train_loss: 0.2065 | train_acc: 0.8594 | test_loss: 0.2975 | test_acc: 0.8665\n",
            "Epoch: 72 | train_loss: 0.1691 | train_acc: 0.9883 | test_loss: 0.3121 | test_acc: 0.8769\n",
            "Epoch: 73 | train_loss: 0.2186 | train_acc: 0.8672 | test_loss: 0.3874 | test_acc: 0.8561\n",
            "Epoch: 74 | train_loss: 0.2051 | train_acc: 0.9883 | test_loss: 0.3370 | test_acc: 0.8665\n",
            "Epoch: 75 | train_loss: 0.3603 | train_acc: 0.8594 | test_loss: 0.3411 | test_acc: 0.8665\n",
            "Epoch: 76 | train_loss: 0.1803 | train_acc: 0.9844 | test_loss: 0.3206 | test_acc: 0.8665\n",
            "Epoch: 77 | train_loss: 0.2817 | train_acc: 0.8711 | test_loss: 0.3488 | test_acc: 0.8769\n",
            "Epoch: 78 | train_loss: 0.2099 | train_acc: 0.8633 | test_loss: 0.3338 | test_acc: 0.8769\n",
            "Epoch: 79 | train_loss: 0.2528 | train_acc: 0.8594 | test_loss: 0.3153 | test_acc: 0.8665\n",
            "Epoch: 80 | train_loss: 0.1860 | train_acc: 0.9844 | test_loss: 0.3114 | test_acc: 0.8665\n",
            "Epoch: 81 | train_loss: 0.2322 | train_acc: 0.8672 | test_loss: 0.3150 | test_acc: 0.8665\n",
            "Epoch: 82 | train_loss: 0.2711 | train_acc: 0.8672 | test_loss: 0.3482 | test_acc: 0.8665\n",
            "Epoch: 83 | train_loss: 0.2515 | train_acc: 0.8711 | test_loss: 0.3569 | test_acc: 0.8665\n",
            "Epoch: 84 | train_loss: 0.2171 | train_acc: 0.8750 | test_loss: 0.3234 | test_acc: 0.8769\n",
            "Epoch: 85 | train_loss: 0.2087 | train_acc: 0.8711 | test_loss: 0.3152 | test_acc: 0.8561\n",
            "Epoch: 86 | train_loss: 0.1905 | train_acc: 0.9883 | test_loss: 0.3162 | test_acc: 0.8769\n",
            "Epoch: 87 | train_loss: 0.2164 | train_acc: 0.8633 | test_loss: 0.3071 | test_acc: 0.8665\n",
            "Epoch: 88 | train_loss: 0.2348 | train_acc: 0.8711 | test_loss: 0.3166 | test_acc: 0.8665\n",
            "Epoch: 89 | train_loss: 0.2011 | train_acc: 0.8555 | test_loss: 0.3357 | test_acc: 0.8769\n",
            "Epoch: 90 | train_loss: 0.1684 | train_acc: 0.9961 | test_loss: 0.3357 | test_acc: 0.8561\n",
            "Epoch: 91 | train_loss: 0.1899 | train_acc: 0.8750 | test_loss: 0.3444 | test_acc: 0.8665\n",
            "Epoch: 92 | train_loss: 0.2897 | train_acc: 0.8672 | test_loss: 0.3240 | test_acc: 0.8665\n",
            "Epoch: 93 | train_loss: 0.2611 | train_acc: 0.8672 | test_loss: 0.3336 | test_acc: 0.8769\n",
            "Epoch: 94 | train_loss: 0.1920 | train_acc: 0.8711 | test_loss: 0.3495 | test_acc: 0.8665\n",
            "Epoch: 95 | train_loss: 0.1389 | train_acc: 0.9844 | test_loss: 0.3540 | test_acc: 0.8561\n",
            "Epoch: 96 | train_loss: 0.2410 | train_acc: 0.8594 | test_loss: 0.3562 | test_acc: 0.8665\n",
            "Epoch: 97 | train_loss: 0.2462 | train_acc: 0.8672 | test_loss: 0.3097 | test_acc: 0.8769\n",
            "Epoch: 98 | train_loss: 0.2236 | train_acc: 0.8672 | test_loss: 0.3168 | test_acc: 0.8665\n",
            "Epoch: 99 | train_loss: 0.1803 | train_acc: 0.9883 | test_loss: 0.3186 | test_acc: 0.8561\n",
            "Epoch: 100 | train_loss: 0.1693 | train_acc: 0.9727 | test_loss: 0.2826 | test_acc: 0.8769\n",
            "Time taken: 246.03375167300004\n"
          ]
        }
      ],
      "source": [
        "from going_modular import engine\n",
        "from timeit import default_timer as timer\n",
        "\n",
        "start = timer()\n",
        "results = engine.train(model = model,\n",
        "                       train_dataloader = train_dataloader,\n",
        "                       test_dataloader = test_dataloader,\n",
        "                       loss_fn = loss_fn,\n",
        "                       optimizer = optimizer,\n",
        "                       device = device,\n",
        "                       epochs=100)\n",
        "end = timer()\n",
        "print(f\"Time taken: {end - start}\")"
      ]
    },
    {
      "cell_type": "code",
      "execution_count": 17,
      "metadata": {
        "colab": {
          "base_uri": "https://localhost:8080/",
          "height": 641
        },
        "id": "5aOh-99Z8ggQ",
        "outputId": "6788bce7-5368-4c7a-c29d-a9f3ab0a1e57"
      },
      "outputs": [
        {
          "output_type": "display_data",
          "data": {
            "text/plain": [
              "<Figure size 1500x700 with 2 Axes>"
            ],
            "image/png": "[encoded data removed]"
          },
          "metadata": {}
        }
      ],
      "source": [
        "from going_modular import helper_functions\n",
        "\n",
        "helper_functions.plot_loss_curves(results)"
      ]
    }
  ],
  "metadata": {
    "kernelspec": {
      "display_name": "Python 3",
      "name": "python3"
    },
    "language_info": {
      "codemirror_mode": {
        "name": "ipython",
        "version": 3
      },
      "file_extension": ".py",
      "mimetype": "text/x-python",
      "name": "python",
      "nbconvert_exporter": "python",
      "pygments_lexer": "ipython3",
      "version": "3.10.14"
    },
    "colab": {
      "provenance": [],
      "gpuType": "T4"
    },
    "accelerator": "GPU",
    "widgets": {
      "application/vnd.jupyter.widget-state+json": {
        "4cb099dceb364ca180a25998f123e7fb": {
          "model_module": "@jupyter-widgets/controls",
          "model_name": "HBoxModel",
          "model_module_version": "1.5.0",
          "state": {
            "_dom_classes": [],
            "_model_module": "@jupyter-widgets/controls",
            "_model_module_version": "1.5.0",
            "_model_name": "HBoxModel",
            "_view_count": null,
            "_view_module": "@jupyter-widgets/controls",
            "_view_module_version": "1.5.0",
            "_view_name": "HBoxView",
            "box_style": "",
            "children": [
              "IPY_MODEL_c6ed8125ea544a74b965abab3edeef7e",
              "IPY_MODEL_90d9b88d23244abe896cbe330a141cdf",
              "IPY_MODEL_f03f9e8bd3dc47eea01fe1284ab10022"
            ],
            "layout": "IPY_MODEL_14449c4abbc64c7b910e6d9fc658d5c5"
          }
        },
        "c6ed8125ea544a74b965abab3edeef7e": {
          "model_module": "@jupyter-widgets/controls",
          "model_name": "HTMLModel",
          "model_module_version": "1.5.0",
          "state": {
            "_dom_classes": [],
            "_model_module": "@jupyter-widgets/controls",
            "_model_module_version": "1.5.0",
            "_model_name": "HTMLModel",
            "_view_count": null,
            "_view_module": "@jupyter-widgets/controls",
            "_view_module_version": "1.5.0",
            "_view_name": "HTMLView",
            "description": "",
            "description_tooltip": null,
            "layout": "IPY_MODEL_7075cab58b7a420ea7ba2e2cbcde5966",
            "placeholder": "​",
            "style": "IPY_MODEL_2a7e3278c7224a7d987813682be5362a",
            "value": "100%"
          }
        },
        "90d9b88d23244abe896cbe330a141cdf": {
          "model_module": "@jupyter-widgets/controls",
          "model_name": "FloatProgressModel",
          "model_module_version": "1.5.0",
          "state": {
            "_dom_classes": [],
            "_model_module": "@jupyter-widgets/controls",
            "_model_module_version": "1.5.0",
            "_model_name": "FloatProgressModel",
            "_view_count": null,
            "_view_module": "@jupyter-widgets/controls",
            "_view_module_version": "1.5.0",
            "_view_name": "ProgressView",
            "bar_style": "success",
            "description": "",
            "description_tooltip": null,
            "layout": "IPY_MODEL_eaa20a78d416493abab9a1c595835af3",
            "max": 100,
            "min": 0,
            "orientation": "horizontal",
            "style": "IPY_MODEL_7686a6dee4104718aac32057fcd51fd1",
            "value": 100
          }
        },
        "f03f9e8bd3dc47eea01fe1284ab10022": {
          "model_module": "@jupyter-widgets/controls",
          "model_name": "HTMLModel",
          "model_module_version": "1.5.0",
          "state": {
            "_dom_classes": [],
            "_model_module": "@jupyter-widgets/controls",
            "_model_module_version": "1.5.0",
            "_model_name": "HTMLModel",
            "_view_count": null,
            "_view_module": "@jupyter-widgets/controls",
            "_view_module_version": "1.5.0",
            "_view_name": "HTMLView",
            "description": "",
            "description_tooltip": null,
            "layout": "IPY_MODEL_f3f057f671404fcebdbe838eaa48aa93",
            "placeholder": "​",
            "style": "IPY_MODEL_9df263db3f244a5b93a1e60599178d2e",
            "value": " 100/100 [04:06&lt;00:00,  2.55s/it]"
          }
        },
        "14449c4abbc64c7b910e6d9fc658d5c5": {
          "model_module": "@jupyter-widgets/base",
          "model_name": "LayoutModel",
          "model_module_version": "1.2.0",
          "state": {
            "_model_module": "@jupyter-widgets/base",
            "_model_module_version": "1.2.0",
            "_model_name": "LayoutModel",
            "_view_count": null,
            "_view_module": "@jupyter-widgets/base",
            "_view_module_version": "1.2.0",
            "_view_name": "LayoutView",
            "align_content": null,
            "align_items": null,
            "align_self": null,
            "border": null,
            "bottom": null,
            "display": null,
            "flex": null,
            "flex_flow": null,
            "grid_area": null,
            "grid_auto_columns": null,
            "grid_auto_flow": null,
            "grid_auto_rows": null,
            "grid_column": null,
            "grid_gap": null,
            "grid_row": null,
            "grid_template_areas": null,
            "grid_template_columns": null,
            "grid_template_rows": null,
            "height": null,
            "justify_content": null,
            "justify_items": null,
            "left": null,
            "margin": null,
            "max_height": null,
            "max_width": null,
            "min_height": null,
            "min_width": null,
            "object_fit": null,
            "object_position": null,
            "order": null,
            "overflow": null,
            "overflow_x": null,
            "overflow_y": null,
            "padding": null,
            "right": null,
            "top": null,
            "visibility": null,
            "width": null
          }
        },
        "7075cab58b7a420ea7ba2e2cbcde5966": {
          "model_module": "@jupyter-widgets/base",
          "model_name": "LayoutModel",
          "model_module_version": "1.2.0",
          "state": {
            "_model_module": "@jupyter-widgets/base",
            "_model_module_version": "1.2.0",
            "_model_name": "LayoutModel",
            "_view_count": null,
            "_view_module": "@jupyter-widgets/base",
            "_view_module_version": "1.2.0",
            "_view_name": "LayoutView",
            "align_content": null,
            "align_items": null,
            "align_self": null,
            "border": null,
            "bottom": null,
            "display": null,
            "flex": null,
            "flex_flow": null,
            "grid_area": null,
            "grid_auto_columns": null,
            "grid_auto_flow": null,
            "grid_auto_rows": null,
            "grid_column": null,
            "grid_gap": null,
            "grid_row": null,
            "grid_template_areas": null,
            "grid_template_columns": null,
            "grid_template_rows": null,
            "height": null,
            "justify_content": null,
            "justify_items": null,
            "left": null,
            "margin": null,
            "max_height": null,
            "max_width": null,
            "min_height": null,
            "min_width": null,
            "object_fit": null,
            "object_position": null,
            "order": null,
            "overflow": null,
            "overflow_x": null,
            "overflow_y": null,
            "padding": null,
            "right": null,
            "top": null,
            "visibility": null,
            "width": null
          }
        },
        "2a7e3278c7224a7d987813682be5362a": {
          "model_module": "@jupyter-widgets/controls",
          "model_name": "DescriptionStyleModel",
          "model_module_version": "1.5.0",
          "state": {
            "_model_module": "@jupyter-widgets/controls",
            "_model_module_version": "1.5.0",
            "_model_name": "DescriptionStyleModel",
            "_view_count": null,
            "_view_module": "@jupyter-widgets/base",
            "_view_module_version": "1.2.0",
            "_view_name": "StyleView",
            "description_width": ""
          }
        },
        "eaa20a78d416493abab9a1c595835af3": {
          "model_module": "@jupyter-widgets/base",
          "model_name": "LayoutModel",
          "model_module_version": "1.2.0",
          "state": {
            "_model_module": "@jupyter-widgets/base",
            "_model_module_version": "1.2.0",
            "_model_name": "LayoutModel",
            "_view_count": null,
            "_view_module": "@jupyter-widgets/base",
            "_view_module_version": "1.2.0",
            "_view_name": "LayoutView",
            "align_content": null,
            "align_items": null,
            "align_self": null,
            "border": null,
            "bottom": null,
            "display": null,
            "flex": null,
            "flex_flow": null,
            "grid_area": null,
            "grid_auto_columns": null,
            "grid_auto_flow": null,
            "grid_auto_rows": null,
            "grid_column": null,
            "grid_gap": null,
            "grid_row": null,
            "grid_template_areas": null,
            "grid_template_columns": null,
            "grid_template_rows": null,
            "height": null,
            "justify_content": null,
            "justify_items": null,
            "left": null,
            "margin": null,
            "max_height": null,
            "max_width": null,
            "min_height": null,
            "min_width": null,
            "object_fit": null,
            "object_position": null,
            "order": null,
            "overflow": null,
            "overflow_x": null,
            "overflow_y": null,
            "padding": null,
            "right": null,
            "top": null,
            "visibility": null,
            "width": null
          }
        },
        "7686a6dee4104718aac32057fcd51fd1": {
          "model_module": "@jupyter-widgets/controls",
          "model_name": "ProgressStyleModel",
          "model_module_version": "1.5.0",
          "state": {
            "_model_module": "@jupyter-widgets/controls",
            "_model_module_version": "1.5.0",
            "_model_name": "ProgressStyleModel",
            "_view_count": null,
            "_view_module": "@jupyter-widgets/base",
            "_view_module_version": "1.2.0",
            "_view_name": "StyleView",
            "bar_color": null,
            "description_width": ""
          }
        },
        "f3f057f671404fcebdbe838eaa48aa93": {
          "model_module": "@jupyter-widgets/base",
          "model_name": "LayoutModel",
          "model_module_version": "1.2.0",
          "state": {
            "_model_module": "@jupyter-widgets/base",
            "_model_module_version": "1.2.0",
            "_model_name": "LayoutModel",
            "_view_count": null,
            "_view_module": "@jupyter-widgets/base",
            "_view_module_version": "1.2.0",
            "_view_name": "LayoutView",
            "align_content": null,
            "align_items": null,
            "align_self": null,
            "border": null,
            "bottom": null,
            "display": null,
            "flex": null,
            "flex_flow": null,
            "grid_area": null,
            "grid_auto_columns": null,
            "grid_auto_flow": null,
            "grid_auto_rows": null,
            "grid_column": null,
            "grid_gap": null,
            "grid_row": null,
            "grid_template_areas": null,
            "grid_template_columns": null,
            "grid_template_rows": null,
            "height": null,
            "justify_content": null,
            "justify_items": null,
            "left": null,
            "margin": null,
            "max_height": null,
            "max_width": null,
            "min_height": null,
            "min_width": null,
            "object_fit": null,
            "object_position": null,
            "order": null,
            "overflow": null,
            "overflow_x": null,
            "overflow_y": null,
            "padding": null,
            "right": null,
            "top": null,
            "visibility": null,
            "width": null
          }
        },
        "9df263db3f244a5b93a1e60599178d2e": {
          "model_module": "@jupyter-widgets/controls",
          "model_name": "DescriptionStyleModel",
          "model_module_version": "1.5.0",
          "state": {
            "_model_module": "@jupyter-widgets/controls",
            "_model_module_version": "1.5.0",
            "_model_name": "DescriptionStyleModel",
            "_view_count": null,
            "_view_module": "@jupyter-widgets/base",
            "_view_module_version": "1.2.0",
            "_view_name": "StyleView",
            "description_width": ""
          }
        }
      }
    }
  },
  "nbformat": 4,
  "nbformat_minor": 0
}