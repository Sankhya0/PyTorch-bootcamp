{
 "cells": [
  {
   "cell_type": "code",
   "execution_count": 1,
   "metadata": {},
   "outputs": [],
   "source": [
    "import torch\n",
    "import torch.nn as nn\n",
    "import numpy as np\n",
    "import matplotlib.pyplot as plt\n",
    "\n",
    "device = \"cuda\" if torch.cuda.is_available() else \"cpu\""
   ]
  },
  {
   "cell_type": "code",
   "execution_count": 2,
   "metadata": {},
   "outputs": [],
   "source": [
    "weight = 0.7\n",
    "bias = 0.3"
   ]
  },
  {
   "cell_type": "code",
   "execution_count": 3,
   "metadata": {},
   "outputs": [
    {
     "data": {
      "text/plain": [
       "tensor([0.0000, 0.0200, 0.0400, 0.0600, 0.0800, 0.1000, 0.1200, 0.1400, 0.1600,\n",
       "        0.1800, 0.2000, 0.2200, 0.2400, 0.2600, 0.2800, 0.3000, 0.3200, 0.3400,\n",
       "        0.3600, 0.3800, 0.4000, 0.4200, 0.4400, 0.4600, 0.4800, 0.5000, 0.5200,\n",
       "        0.5400, 0.5600, 0.5800, 0.6000, 0.6200, 0.6400, 0.6600, 0.6800, 0.7000,\n",
       "        0.7200, 0.7400, 0.7600, 0.7800, 0.8000, 0.8200, 0.8400, 0.8600, 0.8800,\n",
       "        0.9000, 0.9200, 0.9400, 0.9600, 0.9800])"
      ]
     },
     "execution_count": 3,
     "metadata": {},
     "output_type": "execute_result"
    }
   ],
   "source": [
    "start = 0\n",
    "end = 1\n",
    "step = 0.02\n",
    "X = torch.arange(start, end, step)\n",
    "X"
   ]
  },
  {
   "cell_type": "code",
   "execution_count": 4,
   "metadata": {},
   "outputs": [
    {
     "data": {
      "text/plain": [
       "tensor([[0.0000],\n",
       "        [0.0200],\n",
       "        [0.0400],\n",
       "        [0.0600],\n",
       "        [0.0800],\n",
       "        [0.1000],\n",
       "        [0.1200],\n",
       "        [0.1400],\n",
       "        [0.1600],\n",
       "        [0.1800],\n",
       "        [0.2000],\n",
       "        [0.2200],\n",
       "        [0.2400],\n",
       "        [0.2600],\n",
       "        [0.2800],\n",
       "        [0.3000],\n",
       "        [0.3200],\n",
       "        [0.3400],\n",
       "        [0.3600],\n",
       "        [0.3800],\n",
       "        [0.4000],\n",
       "        [0.4200],\n",
       "        [0.4400],\n",
       "        [0.4600],\n",
       "        [0.4800],\n",
       "        [0.5000],\n",
       "        [0.5200],\n",
       "        [0.5400],\n",
       "        [0.5600],\n",
       "        [0.5800],\n",
       "        [0.6000],\n",
       "        [0.6200],\n",
       "        [0.6400],\n",
       "        [0.6600],\n",
       "        [0.6800],\n",
       "        [0.7000],\n",
       "        [0.7200],\n",
       "        [0.7400],\n",
       "        [0.7600],\n",
       "        [0.7800],\n",
       "        [0.8000],\n",
       "        [0.8200],\n",
       "        [0.8400],\n",
       "        [0.8600],\n",
       "        [0.8800],\n",
       "        [0.9000],\n",
       "        [0.9200],\n",
       "        [0.9400],\n",
       "        [0.9600],\n",
       "        [0.9800]])"
      ]
     },
     "execution_count": 4,
     "metadata": {},
     "output_type": "execute_result"
    }
   ],
   "source": [
    "X = X.unsqueeze(dim = 1)\n",
    "X"
   ]
  },
  {
   "cell_type": "code",
   "execution_count": 5,
   "metadata": {},
   "outputs": [
    {
     "data": {
      "text/plain": [
       "tensor([[0.3000],\n",
       "        [0.3140],\n",
       "        [0.3280],\n",
       "        [0.3420],\n",
       "        [0.3560],\n",
       "        [0.3700],\n",
       "        [0.3840],\n",
       "        [0.3980],\n",
       "        [0.4120],\n",
       "        [0.4260],\n",
       "        [0.4400],\n",
       "        [0.4540],\n",
       "        [0.4680],\n",
       "        [0.4820],\n",
       "        [0.4960],\n",
       "        [0.5100],\n",
       "        [0.5240],\n",
       "        [0.5380],\n",
       "        [0.5520],\n",
       "        [0.5660],\n",
       "        [0.5800],\n",
       "        [0.5940],\n",
       "        [0.6080],\n",
       "        [0.6220],\n",
       "        [0.6360],\n",
       "        [0.6500],\n",
       "        [0.6640],\n",
       "        [0.6780],\n",
       "        [0.6920],\n",
       "        [0.7060],\n",
       "        [0.7200],\n",
       "        [0.7340],\n",
       "        [0.7480],\n",
       "        [0.7620],\n",
       "        [0.7760],\n",
       "        [0.7900],\n",
       "        [0.8040],\n",
       "        [0.8180],\n",
       "        [0.8320],\n",
       "        [0.8460],\n",
       "        [0.8600],\n",
       "        [0.8740],\n",
       "        [0.8880],\n",
       "        [0.9020],\n",
       "        [0.9160],\n",
       "        [0.9300],\n",
       "        [0.9440],\n",
       "        [0.9580],\n",
       "        [0.9720],\n",
       "        [0.9860]])"
      ]
     },
     "execution_count": 5,
     "metadata": {},
     "output_type": "execute_result"
    }
   ],
   "source": [
    "y = weight * X + bias\n",
    "y"
   ]
  },
  {
   "cell_type": "code",
   "execution_count": 6,
   "metadata": {},
   "outputs": [
    {
     "data": {
      "text/plain": [
       "(torch.Size([50, 1]), torch.Size([50, 1]))"
      ]
     },
     "execution_count": 6,
     "metadata": {},
     "output_type": "execute_result"
    }
   ],
   "source": [
    "X.size(), y.size()"
   ]
  },
  {
   "cell_type": "markdown",
   "metadata": {},
   "source": [
    "## Split into train and test set"
   ]
  },
  {
   "cell_type": "code",
   "execution_count": 29,
   "metadata": {},
   "outputs": [
    {
     "data": {
      "text/plain": [
       "(torch.Size([40, 1]),\n",
       " torch.Size([40, 1]),\n",
       " torch.Size([10, 1]),\n",
       " torch.Size([10, 1]))"
      ]
     },
     "execution_count": 29,
     "metadata": {},
     "output_type": "execute_result"
    }
   ],
   "source": [
    "train_split = int( 0.8 * len(X))\n",
    "X_train, y_train = X[:train_split], y[:train_split]\n",
    "X_test, y_test = X[train_split:], y[train_split:]\n",
    "X_train.size(), y_train.size(), X_test.size(), y_test.size()"
   ]
  },
  {
   "cell_type": "markdown",
   "metadata": {},
   "source": [
    "#### Using matplotlib to visualize the data"
   ]
  },
  {
   "cell_type": "code",
   "execution_count": 8,
   "metadata": {},
   "outputs": [],
   "source": [
    "def plot_predictions(train_data = X_train,\n",
    "                     test_data = X_test,\n",
    "                     train_labels = y_train,\n",
    "                     test_labels = y_test,\n",
    "                     predictions = None):\n",
    "    plt.figure(figsize = (10, 6))\n",
    "    plt.scatter(train_data, train_labels, c = \"b\", label = \"Training data\")\n",
    "\n",
    "    plt.scatter(test_data, test_labels, c = \"g\", label = \"Testing data\")\n",
    "\n",
    "    if predictions is not None:\n",
    "        plt.scatter(test_data, predictions, c = \"r\", label = \"Predictions\")\n",
    "\n",
    "    plt.legend()"
   ]
  },
  {
   "cell_type": "code",
   "execution_count": 9,
   "metadata": {},
   "outputs": [
    {
     "data": {
      "image/png": "[encoded data removed]",
      "text/plain": [
       "<Figure size 1000x600 with 1 Axes>"
      ]
     },
     "metadata": {},
     "output_type": "display_data"
    }
   ],
   "source": [
    "plot_predictions()"
   ]
  },
  {
   "cell_type": "markdown",
   "metadata": {},
   "source": [
    "#### Building the model"
   ]
  },
  {
   "cell_type": "code",
   "execution_count": 10,
   "metadata": {},
   "outputs": [],
   "source": [
    "class LinerRegressionModel(nn.Module):\n",
    "    def __init__(self):\n",
    "        super().__init__()\n",
    "        self.weights = nn.Parameter(torch.randn(1, requires_grad=True, dtype=torch.float))\n",
    "        self.bias = nn.Parameter(torch.randn(1, requires_grad=True, dtype=torch.float))\n",
    "\n",
    "    def forward(self, x:torch.Tensor) -> torch.Tensor: ## X is training data\n",
    "        return self.weights * x + self.bias"
   ]
  },
  {
   "cell_type": "markdown",
   "metadata": {},
   "source": [
    "#### Checking the contents of out pytorch model"
   ]
  },
  {
   "cell_type": "code",
   "execution_count": 11,
   "metadata": {},
   "outputs": [
    {
     "data": {
      "text/plain": [
       "[Parameter containing:\n",
       " tensor([0.3367], requires_grad=True),\n",
       " Parameter containing:\n",
       " tensor([0.1288], requires_grad=True)]"
      ]
     },
     "execution_count": 11,
     "metadata": {},
     "output_type": "execute_result"
    }
   ],
   "source": [
    "RANDOM_SEED = 42\n",
    "torch.manual_seed(RANDOM_SEED)\n",
    "\n",
    "model_0 = LinerRegressionModel()\n",
    "\n",
    "list(model_0.parameters())"
   ]
  },
  {
   "cell_type": "code",
   "execution_count": 12,
   "metadata": {},
   "outputs": [
    {
     "data": {
      "text/plain": [
       "OrderedDict([('weights', tensor([0.3367])), ('bias', tensor([0.1288]))])"
      ]
     },
     "execution_count": 12,
     "metadata": {},
     "output_type": "execute_result"
    }
   ],
   "source": [
    "model_0.state_dict()"
   ]
  },
  {
   "cell_type": "markdown",
   "metadata": {},
   "source": [
    "#### Making predictions using torch.inference()\n",
    "\n",
    "* To check our model's predictive power, lets see how well it predicts `y_test` based on `x_test`.\n",
    "* When we pass our data thtrough the model, it is going to run through the `forward` method \n",
    "* We can also get the grads by simply running the model as well.\n",
    "* But, we use the inference mode so that pytorch will not keep track of the grads and will in turn run faster"
   ]
  },
  {
   "cell_type": "code",
   "execution_count": 13,
   "metadata": {},
   "outputs": [
    {
     "data": {
      "text/plain": [
       "tensor([[0.3982],\n",
       "        [0.4049],\n",
       "        [0.4116],\n",
       "        [0.4184],\n",
       "        [0.4251],\n",
       "        [0.4318],\n",
       "        [0.4386],\n",
       "        [0.4453],\n",
       "        [0.4520],\n",
       "        [0.4588]])"
      ]
     },
     "execution_count": 13,
     "metadata": {},
     "output_type": "execute_result"
    }
   ],
   "source": [
    "with torch.inference_mode():\n",
    "    y_preds = model_0(X_test)\n",
    "\n",
    "\n",
    "# Both inefrence_mode and no_grad() do the same thing, but inference_mode is preferred. While no_grad() stops tracking gradients, \n",
    "# it still involves some overhead from PyTorch's Autograd engine, especially with operations that could modify the computation graph.\n",
    "# In contrast, torch.inference_mode() completely disables Autograd, which can provide a performance boost for inference.\n",
    "\n",
    "# with torch.no_grad():\n",
    "#     y_preds = model_0(X_test)\n",
    "\n",
    "y_preds"
   ]
  },
  {
   "cell_type": "code",
   "execution_count": 14,
   "metadata": {},
   "outputs": [
    {
     "data": {
      "image/png": "[encoded data removed]",
      "text/plain": [
       "<Figure size 1000x600 with 1 Axes>"
      ]
     },
     "metadata": {},
     "output_type": "display_data"
    }
   ],
   "source": [
    "plot_predictions(predictions = y_preds)"
   ]
  },
  {
   "cell_type": "markdown",
   "metadata": {},
   "source": [
    "## Train Model\n",
    "\n",
    "* Loss Functions\n",
    "* Optimizers"
   ]
  },
  {
   "cell_type": "markdown",
   "metadata": {},
   "source": [
    "#### Loss Functions"
   ]
  },
  {
   "cell_type": "code",
   "execution_count": 15,
   "metadata": {},
   "outputs": [],
   "source": [
    "# setup a loss function\n",
    "\n",
    "loss_fn = nn.MSELoss()\n",
    "\n",
    "# setup an optimizer\n",
    "\n",
    "optimizer = torch.optim.Adam(model_0.parameters(), lr = 0.01)"
   ]
  },
  {
   "cell_type": "code",
   "execution_count": 16,
   "metadata": {},
   "outputs": [
    {
     "data": {
      "text/plain": [
       "MSELoss()"
      ]
     },
     "execution_count": 16,
     "metadata": {},
     "output_type": "execute_result"
    }
   ],
   "source": [
    "loss_fn"
   ]
  },
  {
   "cell_type": "code",
   "execution_count": 17,
   "metadata": {},
   "outputs": [
    {
     "data": {
      "text/plain": [
       "Adam (\n",
       "Parameter Group 0\n",
       "    amsgrad: False\n",
       "    betas: (0.9, 0.999)\n",
       "    capturable: False\n",
       "    differentiable: False\n",
       "    eps: 1e-08\n",
       "    foreach: None\n",
       "    fused: None\n",
       "    lr: 0.01\n",
       "    maximize: False\n",
       "    weight_decay: 0\n",
       ")"
      ]
     },
     "execution_count": 17,
     "metadata": {},
     "output_type": "execute_result"
    }
   ],
   "source": [
    "optimizer"
   ]
  },
  {
   "cell_type": "markdown",
   "metadata": {},
   "source": [
    "## Setting up a training loop\n",
    "\n",
    "1. **Loop through the data**: through epochs and batches\n",
    "2. **Forward Pass**: Compute the model's predictions.\n",
    "3. **Loss Calculation**: Measure how far the predictions are from the true values using a loss function.\n",
    "4. **Zero Gradients**: Reset the gradients of the model parameters (set them to zero) before starting the backpropagation process. This is important because PyTorch accumulates gradients by default.\n",
    "5. **Backward Pass**: Compute the gradients of the loss with respect to the model's parameters using loss.backward(). This step computes the gradients and stores them in the respective parameter tensors' .grad attributes.\n",
    "6. **Optimizer Step**: Update the model's parameters using the gradients computed during the backward pass. This is done by calling optimizer.step(), which applies the optimization algorithm (like SGD, Adam, etc.) to adjust the parameters in the direction that minimizes the loss."
   ]
  },
  {
   "cell_type": "code",
   "execution_count": 18,
   "metadata": {},
   "outputs": [
    {
     "name": "stdout",
     "output_type": "stream",
     "text": [
      "Epoch 1, Loss: 0.10493002086877823, Test Loss: 0.2266416996717453\n",
      "Epoch 6, Loss: 0.06464321911334991, Test Loss: 0.1461831033229828\n",
      "Epoch 11, Loss: 0.03497854620218277, Test Loss: 0.08532668650150299\n",
      "Epoch 16, Loss: 0.015673313289880753, Test Loss: 0.04366398602724075\n",
      "Epoch 21, Loss: 0.005314735230058432, Test Loss: 0.018773499876260757\n",
      "Epoch 26, Loss: 0.0014169017085805535, Test Loss: 0.006428574677556753\n",
      "Epoch 31, Loss: 0.001023327698931098, Test Loss: 0.0016791874077171087\n",
      "Epoch 36, Loss: 0.0016493378207087517, Test Loss: 0.0003838767879642546\n",
      "Epoch 41, Loss: 0.0019537939224392176, Test Loss: 0.000175416047568433\n",
      "Epoch 46, Loss: 0.001700189895927906, Test Loss: 0.0002901455736719072\n",
      "Epoch 51, Loss: 0.0012090678792446852, Test Loss: 0.0007114512263797224\n",
      "Epoch 56, Loss: 0.000814880826510489, Test Loss: 0.001431525917723775\n",
      "Epoch 61, Loss: 0.0006284125265665352, Test Loss: 0.0022178818471729755\n",
      "Epoch 66, Loss: 0.0005800472572445869, Test Loss: 0.002763259457424283\n",
      "Epoch 71, Loss: 0.0005625517223961651, Test Loss: 0.0029010449070483446\n",
      "Epoch 76, Loss: 0.0005225170170888305, Test Loss: 0.0026740129105746746\n",
      "Epoch 81, Loss: 0.0004635190707631409, Test Loss: 0.002251282799988985\n",
      "Epoch 86, Loss: 0.0004069659044034779, Test Loss: 0.0018050007056444883\n",
      "Epoch 91, Loss: 0.00036325957626104355, Test Loss: 0.0014388372655957937\n",
      "Epoch 96, Loss: 0.000329235423123464, Test Loss: 0.0011833825847133994\n",
      "Epoch 100, Loss: 0.00030454262741841376\n",
      "Epoch 101, Loss: 0.00029844738310202956, Test Loss: 0.001024475903250277\n",
      "Epoch 106, Loss: 0.00026823492953553796, Test Loss: 0.0009309517336077988\n",
      "Epoch 111, Loss: 0.00023944252461660653, Test Loss: 0.0008705987711437047\n",
      "Epoch 116, Loss: 0.0002133207453880459, Test Loss: 0.000817839871160686\n",
      "Epoch 121, Loss: 0.0001899917988339439, Test Loss: 0.0007575965719297528\n",
      "Epoch 126, Loss: 0.00016889844846446067, Test Loss: 0.0006858863634988666\n",
      "Epoch 131, Loss: 0.00014962360728532076, Test Loss: 0.0006069405353628099\n",
      "Epoch 136, Loss: 0.00013207996380515397, Test Loss: 0.0005282584461383522\n",
      "Epoch 141, Loss: 0.00011626747436821461, Test Loss: 0.0004562792892102152\n",
      "Epoch 146, Loss: 0.00010209711035713553, Test Loss: 0.0003942886833101511\n",
      "Epoch 151, Loss: 8.941555279307067e-05, Test Loss: 0.00034248403972014785\n",
      "Epoch 156, Loss: 7.808163354638964e-05, Test Loss: 0.0002991601068060845\n",
      "Epoch 161, Loss: 6.798770482419059e-05, Test Loss: 0.00026204175082966685\n",
      "Epoch 166, Loss: 5.903621786274016e-05, Test Loss: 0.00022921657364349812\n",
      "Epoch 171, Loss: 5.112510552862659e-05, Test Loss: 0.00019953896116930991\n",
      "Epoch 176, Loss: 4.415282455738634e-05, Test Loss: 0.00017258294974453747\n",
      "Epoch 181, Loss: 3.802578794420697e-05, Test Loss: 0.00014834696776233613\n",
      "Epoch 186, Loss: 3.2659339922247455e-05, Test Loss: 0.0001269317144760862\n",
      "Epoch 191, Loss: 2.797410706989467e-05, Test Loss: 0.00010831411054823548\n",
      "Epoch 196, Loss: 2.3896145648905076e-05, Test Loss: 9.230528667103499e-05\n",
      "Epoch 200, Loss: 2.1024981833761558e-05\n",
      "Epoch 201, Loss: 2.0357267203507945e-05, Test Loss: 7.858856406528503e-05\n",
      "Epoch 206, Loss: 1.7295384168392047e-05, Test Loss: 6.681338709313422e-05\n",
      "Epoch 211, Loss: 1.4654309779871255e-05, Test Loss: 5.6670705816941336e-05\n",
      "Epoch 216, Loss: 1.2383063221932389e-05, Test Loss: 4.7916102630551904e-05\n",
      "Epoch 221, Loss: 1.0435603144287597e-05, Test Loss: 4.037161124870181e-05\n",
      "Epoch 226, Loss: 8.770753083808813e-06, Test Loss: 3.3897631510626525e-05\n",
      "Epoch 231, Loss: 7.351598469540477e-06, Test Loss: 2.8376127374940552e-05\n",
      "Epoch 236, Loss: 6.145407496660482e-06, Test Loss: 2.3692522518103942e-05\n",
      "Epoch 241, Loss: 5.123346909385873e-06, Test Loss: 1.9736415197257884e-05\n",
      "Epoch 246, Loss: 4.259656179783633e-06, Test Loss: 1.640279333514627e-05\n",
      "Epoch 251, Loss: 3.5319967537361663e-06, Test Loss: 1.359843008685857e-05\n",
      "Epoch 256, Loss: 2.9207178613432916e-06, Test Loss: 1.1242713298997842e-05\n",
      "Epoch 261, Loss: 2.408647787888185e-06, Test Loss: 9.267865607398562e-06\n",
      "Epoch 266, Loss: 1.9809947389148874e-06, Test Loss: 7.617493793077301e-06\n",
      "Epoch 271, Loss: 1.6248501424342976e-06, Test Loss: 6.24361837253673e-06\n",
      "Epoch 276, Loss: 1.3291070217746892e-06, Test Loss: 5.103467628941871e-06\n",
      "Epoch 281, Loss: 1.0842106803465867e-06, Test Loss: 4.160665866947966e-06\n",
      "Epoch 286, Loss: 8.819921504255035e-07, Test Loss: 3.382853947186959e-06\n",
      "Epoch 291, Loss: 7.155468324526737e-07, Test Loss: 2.7430082809587475e-06\n",
      "Epoch 296, Loss: 5.788763246528106e-07, Test Loss: 2.2181202439242043e-06\n",
      "Epoch 300, Loss: 4.876173989032395e-07\n",
      "Epoch 301, Loss: 4.670141606766265e-07, Test Loss: 1.788639906408207e-06\n",
      "Epoch 306, Loss: 3.7572405631181027e-07, Test Loss: 1.4380568700289587e-06\n",
      "Epoch 311, Loss: 3.0143516482894483e-07, Test Loss: 1.1531421932886587e-06\n",
      "Epoch 316, Loss: 2.411795207990508e-07, Test Loss: 9.220407264365349e-07\n",
      "Epoch 321, Loss: 1.924090611282736e-07, Test Loss: 7.351540602940076e-07\n",
      "Epoch 326, Loss: 1.5306648037949344e-07, Test Loss: 5.84524059377145e-07\n",
      "Epoch 331, Loss: 1.2143046035362204e-07, Test Loss: 4.634325705410447e-07\n",
      "Epoch 336, Loss: 9.605187045735875e-08, Test Loss: 3.664477503662056e-07\n",
      "Epoch 341, Loss: 7.576390004260247e-08, Test Loss: 2.8883872005280864e-07\n",
      "Epoch 346, Loss: 5.9583022959941445e-08, Test Loss: 2.2697790313941368e-07\n",
      "Epoch 351, Loss: 4.672697428986794e-08, Test Loss: 1.779119571665433e-07\n",
      "Epoch 356, Loss: 3.6536157210775855e-08, Test Loss: 1.390672252910008e-07\n",
      "Epoch 361, Loss: 2.8484112846172138e-08, Test Loss: 1.0839350750302401e-07\n",
      "Epoch 366, Loss: 2.2140923761071463e-08, Test Loss: 8.418169983315238e-08\n",
      "Epoch 371, Loss: 1.7155276310631962e-08, Test Loss: 6.51795417638823e-08\n",
      "Epoch 376, Loss: 1.3254220831981911e-08, Test Loss: 5.030762650903853e-08\n",
      "Epoch 381, Loss: 1.0210086998085899e-08, Test Loss: 3.871619469464349e-08\n",
      "Epoch 386, Loss: 7.841768123739712e-09, Test Loss: 2.971495405290625e-08\n",
      "Epoch 391, Loss: 6.002881747235733e-09, Test Loss: 2.2735122229278204e-08\n",
      "Epoch 396, Loss: 4.5814743110383915e-09, Test Loss: 1.7352590475638863e-08\n",
      "Epoch 400, Loss: 3.6829015392925157e-09\n",
      "Epoch 401, Loss: 3.4857898789653063e-09, Test Loss: 1.3204750182183034e-08\n",
      "Epoch 406, Loss: 2.6441757672301947e-09, Test Loss: 1.0013243567641439e-08\n",
      "Epoch 411, Loss: 1.999262533303181e-09, Test Loss: 7.559000536616622e-09\n",
      "Epoch 416, Loss: 1.5072364467627608e-09, Test Loss: 5.695446780862312e-09\n",
      "Epoch 421, Loss: 1.1331982019413545e-09, Test Loss: 4.281853094312282e-09\n",
      "Epoch 426, Loss: 8.484303259947978e-10, Test Loss: 3.1980860182301285e-09\n",
      "Epoch 431, Loss: 6.33696484175772e-10, Test Loss: 2.3895896372749803e-09\n",
      "Epoch 436, Loss: 4.71690797532176e-10, Test Loss: 1.775690372518568e-09\n",
      "Epoch 441, Loss: 3.494811939841469e-10, Test Loss: 1.315079600772151e-09\n",
      "Epoch 446, Loss: 2.5802587844125924e-10, Test Loss: 9.64931912150746e-10\n",
      "Epoch 451, Loss: 1.8929120770838637e-10, Test Loss: 7.093721166029354e-10\n",
      "Epoch 456, Loss: 1.3882799076991859e-10, Test Loss: 5.211138187632969e-10\n",
      "Epoch 461, Loss: 1.0163046099131989e-10, Test Loss: 3.8403449864610195e-10\n",
      "Epoch 466, Loss: 7.407359448041717e-11, Test Loss: 2.787885478028329e-10\n",
      "Epoch 471, Loss: 5.384910226058359e-11, Test Loss: 2.0244819709525075e-10\n",
      "Epoch 476, Loss: 3.881757068557867e-11, Test Loss: 1.4646595047906885e-10\n",
      "Epoch 481, Loss: 2.8013346850541687e-11, Test Loss: 1.0474963257900427e-10\n",
      "Epoch 486, Loss: 2.0176948653527482e-11, Test Loss: 7.460698725481052e-11\n",
      "Epoch 491, Loss: 1.4364532133215313e-11, Test Loss: 5.3786308740200184e-11\n",
      "Epoch 496, Loss: 1.0256462346092121e-11, Test Loss: 3.8624037995704796e-11\n",
      "Epoch 500, Loss: 7.812772997994877e-12\n"
     ]
    }
   ],
   "source": [
    "epochs = 500\n",
    "epoch_count = []\n",
    "loss_values = []\n",
    "test_loss_values = []\n",
    "\n",
    "# 0. Loop through the data\n",
    "for epoch in range(epochs):\n",
    "\n",
    "    ### Training\n",
    "    model_0.train() # sets all parameters which require_grad to True\n",
    "    # 1. Forward pass\n",
    "    y_preds = model_0(X_train)\n",
    "\n",
    "    # 2. Calculate loss\n",
    "    loss = loss_fn(y_preds, y_train)\n",
    "    if (epoch + 1) % 100 == 0:\n",
    "        print(f\"Epoch {epoch + 1}, Loss: {loss.item()}\")\n",
    "\n",
    "    # 3. Optimizer zero_grad\n",
    "    optimizer.zero_grad() # we keep on accumulating the gradients, so we need to zero them out\n",
    "\n",
    "    # 4. Backward pass\n",
    "    loss.backward()\n",
    "\n",
    "    # 5. Optimizer step\n",
    "    optimizer.step()\n",
    "\n",
    "    ### Eval\n",
    "    model_0.eval() # turns off the things which are needed for testing like dropout/batch normalization etc.\n",
    "    with torch.inference_mode():\n",
    "        # 1. Forward pass\n",
    "        y_preds_test = model_0(X_test)\n",
    "\n",
    "        # 2. Calculate loss\n",
    "        test_loss = loss_fn(y_preds_test, y_test)\n",
    "    if (epoch%5 == 0):\n",
    "        epoch_count.append(epoch)\n",
    "        loss_values.append(loss.item())\n",
    "        test_loss_values.append(test_loss.item())\n",
    "        print(f\"Epoch {epoch + 1}, Loss: {loss.item()}, Test Loss: {test_loss.item()}\")\n"
   ]
  },
  {
   "cell_type": "code",
   "execution_count": 19,
   "metadata": {},
   "outputs": [
    {
     "data": {
      "text/plain": [
       "OrderedDict([('weights', tensor([0.7000])), ('bias', tensor([0.3000]))])"
      ]
     },
     "execution_count": 19,
     "metadata": {},
     "output_type": "execute_result"
    }
   ],
   "source": [
    "model_0.state_dict()"
   ]
  },
  {
   "cell_type": "code",
   "execution_count": 20,
   "metadata": {},
   "outputs": [
    {
     "data": {
      "text/plain": [
       "(0.7, 0.3)"
      ]
     },
     "execution_count": 20,
     "metadata": {},
     "output_type": "execute_result"
    }
   ],
   "source": [
    "weight, bias"
   ]
  },
  {
   "cell_type": "code",
   "execution_count": 21,
   "metadata": {},
   "outputs": [],
   "source": [
    "with torch.inference_mode():\n",
    "    y_preds = model_0(X_test)"
   ]
  },
  {
   "cell_type": "code",
   "execution_count": 22,
   "metadata": {},
   "outputs": [
    {
     "data": {
      "image/png": "[encoded data removed]",
      "text/plain": [
       "<Figure size 1000x600 with 1 Axes>"
      ]
     },
     "metadata": {},
     "output_type": "display_data"
    }
   ],
   "source": [
    "plot_predictions(predictions = y_preds)"
   ]
  },
  {
   "cell_type": "code",
   "execution_count": 23,
   "metadata": {},
   "outputs": [
    {
     "data": {
      "image/png": "[encoded data removed]",
      "text/plain": [
       "<Figure size 640x480 with 1 Axes>"
      ]
     },
     "metadata": {},
     "output_type": "display_data"
    }
   ],
   "source": [
    "plt.plot(epoch_count, loss_values, label = \"Training Loss\") # blue\n",
    "plt.plot(epoch_count, test_loss_values, label = \"Testing Loss\") # orange\n",
    "plt.show()"
   ]
  },
  {
   "cell_type": "markdown",
   "metadata": {},
   "source": [
    "## Saving a model in pytorch\n",
    "\n",
    "There are 3 main methods:\n",
    "\n",
    "1. `torch.save()` - Allows you to save PyTorch object in the python pickle format\n",
    "2. `torch.load()` - Allows you to load a saved PyTorch object\n",
    "3. `torch.nn.Module.load_state_dict` - This allows you to load a model's saved state dictionary\n",
    "\n",
    "\n",
    "#### Saving and loading the entire model\n",
    "\n",
    "\n",
    "**Pros**:\n",
    "* Ease of Use: It saves the entire model, including the architecture and parameters, making it straightforward to load and use.\n",
    "* No Need to Redefine Model: When loading, you don’t need to redefine the model architecture; it's automatically included.\n",
    "\n",
    "**Cons**:\n",
    "* Less Flexible: If you want to make changes to the model architecture or only load parts of the model, this method is less flexible.\n",
    "* Potential Compatibility Issues: If there are changes in the PyTorch version or if the model code changes, loading the model might fail.\n",
    "* Larger File Size: The saved file includes more information, which can increase the file size.\n",
    "\n",
    "\n",
    "#### Saving and loading the state dict\n",
    "**Pros**:\n",
    "* Flexibility: You can modify the model architecture and still load the pre-trained weights.\n",
    "* Compatibility: More robust to changes in the PyTorch version or model code.\n",
    "* Smaller File Size: Only the model parameters are saved, leading to smaller files.\n",
    "* Partial Loading: You can load only specific parts of the model's state_dict if needed.\n",
    "\n",
    "**Cons**:\n",
    "* Need to Redefine Model: When loading, you must define the model architecture in your code.\n",
    "* Potential for Human Error: If the architecture doesn’t exactly match the saved state_dict, loading might fail.\n",
    "\n",
    "\n",
    "\n",
    "\n",
    "#### In conclusion\n",
    "* **Entire Model**: Useful for quick prototyping, sharing complete models, or when model architecture is unlikely to change.\n",
    "* **State Dict**: Preferred for long-term storage, model updates, or when sharing models across different environments or PyTorch versions. It's generally the more robust and flexible method."
   ]
  },
  {
   "cell_type": "code",
   "execution_count": 24,
   "metadata": {},
   "outputs": [
    {
     "data": {
      "text/plain": [
       "WindowsPath('models/01_pytorch_workflow_model.pth')"
      ]
     },
     "execution_count": 24,
     "metadata": {},
     "output_type": "execute_result"
    }
   ],
   "source": [
    "from pathlib import Path\n",
    "\n",
    "MODEL_PATH = Path(\"models\")\n",
    "MODEL_PATH.mkdir(parents = True, exist_ok = True)\n",
    "\n",
    "MODEL_NAME = \"01_pytorch_workflow_model.pth\"\n",
    "MODEL_SAVE_PATH = MODEL_PATH / MODEL_NAME\n",
    "\n",
    "MODEL_SAVE_PATH"
   ]
  },
  {
   "cell_type": "code",
   "execution_count": 25,
   "metadata": {},
   "outputs": [
    {
     "name": "stdout",
     "output_type": "stream",
     "text": [
      "Saving model to models\\01_pytorch_workflow_model.pth\n"
     ]
    }
   ],
   "source": [
    "print(f\"Saving model to {MODEL_SAVE_PATH}\")\n",
    "torch.save(model_0.state_dict(), f = MODEL_SAVE_PATH)"
   ]
  },
  {
   "cell_type": "code",
   "execution_count": 26,
   "metadata": {},
   "outputs": [
    {
     "name": "stdout",
     "output_type": "stream",
     "text": [
      "OrderedDict([('weights', tensor([0.2345])), ('bias', tensor([0.2303]))])\n"
     ]
    }
   ],
   "source": [
    "### Loading a ptorch model\n",
    "\n",
    "loaded_model_0 = LinerRegressionModel()\n",
    "print(loaded_model_0.state_dict())"
   ]
  },
  {
   "cell_type": "code",
   "execution_count": 27,
   "metadata": {},
   "outputs": [
    {
     "name": "stdout",
     "output_type": "stream",
     "text": [
      "OrderedDict([('weights', tensor([0.7000])), ('bias', tensor([0.3000]))])\n"
     ]
    },
    {
     "name": "stderr",
     "output_type": "stream",
     "text": [
      "C:\\Users\\dixit\\AppData\\Local\\Temp\\ipykernel_24480\\812121005.py:1: FutureWarning: You are using `torch.load` with `weights_only=False` (the current default value), which uses the default pickle module implicitly. It is possible to construct malicious pickle data which will execute arbitrary code during unpickling (See https://github.com/pytorch/pytorch/blob/main/SECURITY.md#untrusted-models for more details). In a future release, the default value for `weights_only` will be flipped to `True`. This limits the functions that could be executed during unpickling. Arbitrary objects will no longer be allowed to be loaded via this mode unless they are explicitly allowlisted by the user via `torch.serialization.add_safe_globals`. We recommend you start setting `weights_only=True` for any use case where you don't have full control of the loaded file. Please open an issue on GitHub for any issues related to this experimental feature.\n",
      "  loaded_model_0.load_state_dict(torch.load(MODEL_SAVE_PATH))\n"
     ]
    }
   ],
   "source": [
    "loaded_model_0.load_state_dict(torch.load(MODEL_SAVE_PATH))\n",
    "print(loaded_model_0.state_dict())"
   ]
  },
  {
   "cell_type": "code",
   "execution_count": 28,
   "metadata": {},
   "outputs": [
    {
     "data": {
      "image/png": "[encoded data removed]",
      "text/plain": [
       "<Figure size 1000x600 with 1 Axes>"
      ]
     },
     "metadata": {},
     "output_type": "display_data"
    }
   ],
   "source": [
    "loaded_model_0.eval()\n",
    "with torch.inference_mode():\n",
    "    y_preds = loaded_model_0(X_test)\n",
    "\n",
    "plot_predictions(predictions = y_preds)"
   ]
  },
  {
   "cell_type": "code",
   "execution_count": null,
   "metadata": {},
   "outputs": [],
   "source": []
  }
 ],
 "metadata": {
  "kernelspec": {
   "display_name": "pytorch_gpu",
   "language": "python",
   "name": "python3"
  },
  "language_info": {
   "codemirror_mode": {
    "name": "ipython",
    "version": 3
   },
   "file_extension": ".py",
   "mimetype": "text/x-python",
   "name": "python",
   "nbconvert_exporter": "python",
   "pygments_lexer": "ipython3",
   "version": "3.10.14"
  }
 },
 "nbformat": 4,
 "nbformat_minor": 2
}
